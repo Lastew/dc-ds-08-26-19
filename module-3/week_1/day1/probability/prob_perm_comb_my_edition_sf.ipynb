{
 "cells": [
  {
   "cell_type": "code",
   "execution_count": 1,
   "metadata": {},
   "outputs": [],
   "source": [
    "import numpy as np\n",
    "\n",
    "import pandas as pd\n",
    "\n",
    "import matplotlib.pyplot as plt"
   ]
  },
  {
   "cell_type": "code",
   "execution_count": 2,
   "metadata": {},
   "outputs": [],
   "source": [
    "## a function that returns the number of elements in the events sum of three dice is 11 and sum of three dice is 12\n",
    "\n",
    "dice1 = [1,2,3,4,5,6]\n",
    "dice2 = [1,2,3,4,5,6]\n",
    "dice3 = [1,2,3,4,5,6]\n",
    "\n",
    "import itertools\n",
    "\n",
    "\n",
    "rolling = list(itertools.product(dice1, dice2, dice3))"
   ]
  },
  {
   "cell_type": "code",
   "execution_count": 6,
   "metadata": {},
   "outputs": [
    {
     "data": {
      "text/plain": [
       "216"
      ]
     },
     "execution_count": 6,
     "metadata": {},
     "output_type": "execute_result"
    }
   ],
   "source": [
    "len(rolling) "
   ]
  },
  {
   "cell_type": "code",
   "execution_count": 30,
   "metadata": {},
   "outputs": [
    {
     "name": "stdout",
     "output_type": "stream",
     "text": [
      "11\n",
      "12\n",
      "the probablity of getting a sum of 11 is 0.125\n",
      "the probablity of getting a sum of 12 is 0.116\n"
     ]
    }
   ],
   "source": [
    "s = {}\n",
    "\n",
    "for i in [11,12]:\n",
    "    print(i)\n",
    "    if not i==0:\n",
    "        lst = [a for a in rolling if (a[0] + a[1] + a[2]) == i]\n",
    "        s[i] = lst\n",
    "p_11 = len(s[11])/len(rolling)\n",
    "p_12 = len(s[12])/len(rolling)\n",
    "print(\"the probablity of getting a sum of 11 is\", p_11)\n",
    "print(\"the probablity of getting a sum of 12 is\", round(p_12,3))\n"
   ]
  },
  {
   "cell_type": "code",
   "execution_count": 50,
   "metadata": {},
   "outputs": [
    {
     "name": "stdout",
     "output_type": "stream",
     "text": [
      "{1: []}\n",
      "{2: [(1, 1)]}\n",
      "{3: [(1, 2), (2, 1)]}\n",
      "{4: [(1, 3), (2, 2), (3, 1)]}\n",
      "{5: [(1, 4), (2, 3), (3, 2), (4, 1)]}\n",
      "{6: [(1, 5), (2, 4), (3, 3), (4, 2), (5, 1)]}\n",
      "{7: [(1, 6), (2, 5), (3, 4), (4, 3), (5, 2), (6, 1)]}\n",
      "{8: [(2, 6), (3, 5), (4, 4), (5, 3), (6, 2)]}\n",
      "{9: [(3, 6), (4, 5), (5, 4), (6, 3)]}\n",
      "{10: [(4, 6), (5, 5), (6, 4)]}\n",
      "{11: [(5, 6), (6, 5)]}\n",
      "{12: [(6, 6)]}\n"
     ]
    }
   ],
   "source": [
    "dice1 = [1,2,3,4,5,6]\n",
    "dice2 = [1,2,3,4,5,6]\n",
    "\n",
    "rolling = list(itertools.product(dice1, dice2))\n",
    "\n",
    "def return_value(rolling, x):\n",
    "    \"\"\"Return a list of tuppls which sumed up to 'x'.\"\"\"\n",
    "    s = {}\n",
    "    for i in [x]:\n",
    "#     print(i)\n",
    "        if not i==0:\n",
    "            lst = [a for a in rolling if (a[0] + a[1]) == i]\n",
    "            s[i] = lst\n",
    "        return s\n",
    "for i in range(1,13):\n",
    "    print(return_value(rolling, i))"
   ]
  },
  {
   "cell_type": "code",
   "execution_count": null,
   "metadata": {},
   "outputs": [],
   "source": [
    "p_11 = len(s[11])/len(rolling)\n",
    "p_12 = len(s[12])/len(rolling)\n",
    "print(\"the probablity of getting a sum of 11 is\", p_11)\n",
    "print(\"the probablity of getting a sum of 12 is\", round(p_12,3))"
   ]
  },
  {
   "cell_type": "code",
   "execution_count": 29,
   "metadata": {},
   "outputs": [
    {
     "name": "stdout",
     "output_type": "stream",
     "text": [
      "two list of tuples 36\n",
      "two list tuples sumed to seven 6\n",
      "Probablity of getting 7 is: 0.16666666666666666\n"
     ]
    },
    {
     "data": {
      "text/plain": [
       "{7: [(1, 6), (2, 5), (3, 4), (4, 3), (5, 2), (6, 1)]}"
      ]
     },
     "execution_count": 29,
     "metadata": {},
     "output_type": "execute_result"
    }
   ],
   "source": [
    "rolling_2 = list(itertools.product(dice1, dice2))\n",
    "print('two list of tuples', len(rolling_2))\n",
    "rolling_2\n",
    "\n",
    "s_2 = {}\n",
    "\n",
    "for x in [7]:\n",
    "    if not x==0:\n",
    "        lst_2 = [b for b in rolling_2 if (b[0] + b[1]) == x]\n",
    "        s_2[x] = lst_2\n",
    "p_7 = len(s_2[7])/len(rolling_2)\n",
    "print('two list tuples sumed to seven', len(s_2[7]))\n",
    "print('Probablity of getting 7 is:', p_7)\n",
    "s_2"
   ]
  },
  {
   "cell_type": "code",
   "execution_count": 34,
   "metadata": {},
   "outputs": [
    {
     "data": {
      "text/plain": [
       "{1: [],\n",
       " 2: [(1, 1)],\n",
       " 3: [(1, 2), (2, 1)],\n",
       " 4: [(1, 3), (2, 2), (3, 1)],\n",
       " 5: [(1, 4), (2, 3), (3, 2), (4, 1)],\n",
       " 6: [(1, 5), (2, 4), (3, 3), (4, 2), (5, 1)],\n",
       " 7: [(1, 6), (2, 5), (3, 4), (4, 3), (5, 2), (6, 1)],\n",
       " 8: [(2, 6), (3, 5), (4, 4), (5, 3), (6, 2)],\n",
       " 9: [(3, 6), (4, 5), (5, 4), (6, 3)],\n",
       " 10: [(4, 6), (5, 5), (6, 4)],\n",
       " 11: [(5, 6), (6, 5)],\n",
       " 12: [(6, 6)]}"
      ]
     },
     "execution_count": 34,
     "metadata": {},
     "output_type": "execute_result"
    }
   ],
   "source": [
    "# for list of all values \n",
    "dic_set = {}\n",
    "for j in range(13):\n",
    "#     print(j)\n",
    "    if not j==0:\n",
    "        ls = [s for s in rolling_2 if (s[0] + s[1]) == j]\n",
    "        dic_set[j] = ls \n",
    "dic_set"
   ]
  },
  {
   "cell_type": "code",
   "execution_count": null,
   "metadata": {},
   "outputs": [],
   "source": [
    "## in one dice you get a certain number\n",
    "\n",
    "rolling = list(itertools.product(dice1, dice2))\n",
    "for i in range (7):\n",
    "    if not i==0:\n",
    "        l = [(a[0]==i, a[1] == i) for a in rolling]\n",
    "        s[i] = l"
   ]
  },
  {
   "cell_type": "code",
   "execution_count": null,
   "metadata": {},
   "outputs": [],
   "source": [
    "np.sum([np.any(a) for a in s[5]])"
   ]
  },
  {
   "cell_type": "code",
   "execution_count": null,
   "metadata": {},
   "outputs": [],
   "source": [
    "## factorial\n",
    "\n",
    "def factorial(n):\n",
    "    prdct = 1\n",
    "    while n>1:\n",
    "        prdct *=n\n",
    "        n -=1\n",
    "    return prdct\n",
    "\n",
    "## with built-in function\n",
    "\n",
    "import math\n",
    "\n",
    "math.factorial(5)"
   ]
  },
  {
   "cell_type": "code",
   "execution_count": null,
   "metadata": {},
   "outputs": [],
   "source": [
    "## appointment example\n",
    "\n",
    "import itertools\n",
    "\n",
    "l = set(itertools.permutations(['F', 'F', 'F', 'M', 'M', 'M'], ))"
   ]
  },
  {
   "cell_type": "code",
   "execution_count": null,
   "metadata": {},
   "outputs": [],
   "source": [
    "## 10 books = 4M + 3 Chem + 2Hist + 1 Lang\n",
    "\n",
    "## result is 4!* 4! * 3! * 2! "
   ]
  },
  {
   "cell_type": "markdown",
   "metadata": {},
   "source": [
    "## Extra resources\n",
    "\n",
    "[permutations - code](https://www.geeksforgeeks.org/generate-all-the-permutation-of-a-list-in-python/)\n",
    "\n",
    "[Some examples on combination and permutation](https://www.geeksforgeeks.org/combination-permutation-practice-questions/)\n",
    "\n",
    "[itertool documentation](https://docs.python.org/2/library/itertools.html#itertools.combinations)\n",
    "\n",
    "[cs109 probab](https://web.stanford.edu/class/cs109/reader/2%20Probability.pdf)\n",
    "\n",
    "[very good lecture notes on conditional probability](http://faculty.arts.ubc.ca/vmarmer/econ327/327_02_cond_probability.pdf)"
   ]
  },
  {
   "cell_type": "code",
   "execution_count": null,
   "metadata": {},
   "outputs": [],
   "source": [
    "from math import factorial\n",
    "w = 5\n",
    "m = 7\n",
    "per_w= factorial(5)/(factorial(5-2) * factorial(2))\n",
    "print(per_w)\n",
    "per_m= factorial(7)/(factorial(7-3) * factorial(3))\n",
    "print(per_m)\n",
    "total = per_w * per_m\n",
    "total"
   ]
  },
  {
   "cell_type": "code",
   "execution_count": 51,
   "metadata": {},
   "outputs": [
    {
     "name": "stdout",
     "output_type": "stream",
     "text": [
      "permutation: 20\n",
      "combinations: 10\n"
     ]
    }
   ],
   "source": [
    "import itertools\n",
    "lst = [1,2,3,4,5]\n",
    "print('permutation:', len(list(itertools.permutations(lst, 2)))) # order matter \n",
    "print('combinations:', len(list(itertools.combinations(lst, 2)))) # order doesn't matter # defulat usage "
   ]
  },
  {
   "cell_type": "code",
   "execution_count": 85,
   "metadata": {},
   "outputs": [
    {
     "name": "stdout",
     "output_type": "stream",
     "text": [
      "man list combination is: 35\n",
      "woman list combination is: 10\n",
      "maximum possible outcome is: 350 \n",
      "\n",
      "we substract: 30\n",
      "new outcome without the bad guys is: 300\n"
     ]
    }
   ],
   "source": [
    "w = ['w1', 'w2', 'w3', 'w4', 'w5']\n",
    "m = ['m1', 'm2', 'm3', 'm4', 'm5', 'm6', 'm7']\n",
    "man_list = list(itertools.combinations(m,3))\n",
    "woman_list = list(itertools.combinations(w,2))\n",
    "possible_list = list(itertools.product(man_list,woman_list))\n",
    "# len(possible_list)\n",
    "print('man list combination is:', len(man_list))\n",
    "print('woman list combination is:', len(woman_list))\n",
    "print('maximum possible outcome is:', len(possible_list),'\\n')\n",
    "\n",
    "# if we have two bad boys \n",
    "i = 0\n",
    "for grp in man_list:\n",
    "    if 'm1' in grp and 'm2' in grp:\n",
    "        i += 1\n",
    "print('we substract:', (len(man_list) - i))\n",
    "print(\"new outcome without the bad guys is:\", (len(man_list)-i)*len(woman_list))"
   ]
  },
  {
   "cell_type": "code",
   "execution_count": 79,
   "metadata": {},
   "outputs": [
    {
     "data": {
      "text/plain": [
       "[('m1', 'm2', 'm3'),\n",
       " ('m1', 'm2', 'm4'),\n",
       " ('m1', 'm2', 'm5'),\n",
       " ('m1', 'm2', 'm6'),\n",
       " ('m1', 'm2', 'm7'),\n",
       " ('m1', 'm3', 'm4'),\n",
       " ('m1', 'm3', 'm5'),\n",
       " ('m1', 'm3', 'm6'),\n",
       " ('m1', 'm3', 'm7'),\n",
       " ('m1', 'm4', 'm5'),\n",
       " ('m1', 'm4', 'm6'),\n",
       " ('m1', 'm4', 'm7'),\n",
       " ('m1', 'm5', 'm6'),\n",
       " ('m1', 'm5', 'm7'),\n",
       " ('m1', 'm6', 'm7'),\n",
       " ('m2', 'm3', 'm4'),\n",
       " ('m2', 'm3', 'm5'),\n",
       " ('m2', 'm3', 'm6'),\n",
       " ('m2', 'm3', 'm7'),\n",
       " ('m2', 'm4', 'm5'),\n",
       " ('m2', 'm4', 'm6'),\n",
       " ('m2', 'm4', 'm7'),\n",
       " ('m2', 'm5', 'm6'),\n",
       " ('m2', 'm5', 'm7'),\n",
       " ('m2', 'm6', 'm7'),\n",
       " ('m3', 'm4', 'm5'),\n",
       " ('m3', 'm4', 'm6'),\n",
       " ('m3', 'm4', 'm7'),\n",
       " ('m3', 'm5', 'm6'),\n",
       " ('m3', 'm5', 'm7'),\n",
       " ('m3', 'm6', 'm7'),\n",
       " ('m4', 'm5', 'm6'),\n",
       " ('m4', 'm5', 'm7'),\n",
       " ('m4', 'm6', 'm7'),\n",
       " ('m5', 'm6', 'm7')]"
      ]
     },
     "execution_count": 79,
     "metadata": {},
     "output_type": "execute_result"
    }
   ],
   "source": [
    "man_list"
   ]
  },
  {
   "cell_type": "code",
   "execution_count": null,
   "metadata": {},
   "outputs": [],
   "source": [
    "w = ['w1', 'w2', 'w3', 'w4', 'w5']\n",
    "m = ['m1', 'm2', 'm3', 'm4', 'm5', 'm6', 'm7']\n",
    "i = 0\n",
    "for grp in men_list:\n",
    "    if 'm1' in grp and 'm2' in grp:\n",
    "        i += 1"
   ]
  },
  {
   "cell_type": "code",
   "execution_count": 76,
   "metadata": {},
   "outputs": [
    {
     "name": "stdout",
     "output_type": "stream",
     "text": [
      "comb: [(0, 1, 2), (0, 1, 3), (0, 2, 3), (1, 2, 3)]\n",
      "4 \n",
      "\n",
      "per [(0, 1, 2), (0, 1, 3), (0, 2, 1), (0, 2, 3), (0, 3, 1), (0, 3, 2), (1, 0, 2), (1, 0, 3), (1, 2, 0), (1, 2, 3), (1, 3, 0), (1, 3, 2), (2, 0, 1), (2, 0, 3), (2, 1, 0), (2, 1, 3), (2, 3, 0), (2, 3, 1), (3, 0, 1), (3, 0, 2), (3, 1, 0), (3, 1, 2), (3, 2, 0), (3, 2, 1)]\n",
      "24 \n",
      "\n"
     ]
    }
   ],
   "source": [
    "# chosing combination and permutation \n",
    "comb = list(itertools.combinations(range(4), 3 ))\n",
    "per = list(itertools.permutations(range(4),3))\n",
    "print('comb:',comb)\n",
    "print(len(comb), '\\n')\n",
    "print('per', per)\n",
    "print(len(per), '\\n')"
   ]
  },
  {
   "cell_type": "code",
   "execution_count": null,
   "metadata": {},
   "outputs": [],
   "source": []
  }
 ],
 "metadata": {
  "kernelspec": {
   "display_name": "Python 3",
   "language": "python",
   "name": "python3"
  },
  "language_info": {
   "codemirror_mode": {
    "name": "ipython",
    "version": 3
   },
   "file_extension": ".py",
   "mimetype": "text/x-python",
   "name": "python",
   "nbconvert_exporter": "python",
   "pygments_lexer": "ipython3",
   "version": "3.7.3"
  }
 },
 "nbformat": 4,
 "nbformat_minor": 2
}

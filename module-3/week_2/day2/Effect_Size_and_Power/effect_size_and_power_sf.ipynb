{
 "cells": [
  {
   "cell_type": "markdown",
   "metadata": {},
   "source": [
    "> What's wrong with (null hypothesis significance testing)? Well, among many other things, it does not tell us what we want to know, and we so much want to know what we want to know that, out of desperation, we nevertheless believe that it does! - Cohen\n",
    "\n",
    "\n",
    "## Effect Size and Power\n",
    "\n",
    "### Effect Size\n",
    "\n",
    "Q: OK! it is statistically significant but is it also practically significant too?\n",
    "\n",
    "Let's try to explain what we mean.\n",
    "\n",
    "\n",
    "__Scenerio__: Are SAT-Math scores at one college greater than the known population mean of 500?\n",
    "\n",
    "Data are collected from a random sample of 1,200 students at that college. The population standard deviation is known to be 100. Find a one-sample mean test and determine p_value. Then determine whether null hypothesis should be rejected ($\\alpha = 0.05$).\n",
    "\n",
    "\n",
    "Suppose the null-hypothesis is \n",
    "\n",
    "$H_{0}$: $\\mu = 500$,<br>\n",
    "$H_{a}: \\mu > 500$\n",
    "\n",
    "Write alternative hypothesis here (use one sided altenative hypothesis)"
   ]
  },
  {
   "cell_type": "code",
   "execution_count": 40,
   "metadata": {},
   "outputs": [],
   "source": [
    "import numpy as np\n",
    "import scipy.stats as stats"
   ]
  },
  {
   "cell_type": "code",
   "execution_count": 46,
   "metadata": {},
   "outputs": [
    {
     "name": "stdout",
     "output_type": "stream",
     "text": [
      "Sample mean is: 506.0888\n",
      ">> Z statistic is: 2.1092\n",
      "probability is: 0.017462564816794778\n"
     ]
    }
   ],
   "source": [
    "np.random.seed(1800)\n",
    "sample = np.random.normal(loc = 506, scale = 100, size = 1200) # generate a sample distribution with sample mean of 506\n",
    "\n",
    "## population mean is mu = 500\n",
    "mu = 500\n",
    "\n",
    "\n",
    "## Sample mean is x1_bar\n",
    "x1_bar = sample.mean()\n",
    "n1 = 1200\n",
    "std_error = 100/ np.sqrt(n1)\n",
    "print('Sample mean is:', round(x1_bar,4)) # is 506.0888\n",
    "## Is this significant difference from population mean 500?\n",
    "\n",
    "## calculate the z statistic \n",
    "z_stat = (x1_bar - mu)/std_error\n",
    "print('>> Z statistic is:', round(z_stat,4))\n",
    "pval = stats.norm.sf(z_stat)\n",
    "print('probability is:', pval)"
   ]
  },
  {
   "cell_type": "code",
   "execution_count": 3,
   "metadata": {},
   "outputs": [
    {
     "data": {
      "text/plain": [
       "0.017462564816794778"
      ]
     },
     "execution_count": 3,
     "metadata": {},
     "output_type": "execute_result"
    }
   ],
   "source": [
    "z = (x1_bar - mu)/ std_error\n",
    "\n",
    "## recall that sf = 1 - cdf\n",
    "\n",
    "## is this significant for alpha = 0.05 and with two-tailed test?\n",
    "stats.norm.sf(z)"
   ]
  },
  {
   "cell_type": "code",
   "execution_count": 4,
   "metadata": {},
   "outputs": [
    {
     "data": {
      "text/plain": [
       "0.017462564816794778"
      ]
     },
     "execution_count": 4,
     "metadata": {},
     "output_type": "execute_result"
    }
   ],
   "source": [
    "stats.norm.cdf(-z)"
   ]
  },
  {
   "cell_type": "markdown",
   "metadata": {},
   "source": [
    "For some tests there are commonly used measures of effect size. For example, when comparing the difference in two means we often compute Cohen's which is the difference between the two observed sample means in standard deviation units. \n",
    "\n",
    "$$ \\begin{gather}\n",
    " d = \\frac{\\bar{x}_{1} - \\bar{x}_{2}}{s_{p}}\\\\\n",
    "\\text{where} \\qquad s_{p} = \\sqrt{\\frac{(n_{1}-1)s_{1}^{2} + (n_{2}-1)s_{2}^{2} }{n_{1} + n_{2} - 2}}\n",
    "\\end{gather}$$\n",
    "\n",
    "\n",
    "and if we have only one sample we use \n",
    "\n",
    "$$d = \\frac{\\bar{x}_{1} - \\mu}{s}$$\n",
    "\n",
    "\n",
    "where $s$ is the standard deviation of the sample"
   ]
  },
  {
   "cell_type": "code",
   "execution_count": 6,
   "metadata": {},
   "outputs": [
    {
     "name": "stdout",
     "output_type": "stream",
     "text": [
      "Effect size: 0.06088809290208928\n",
      "z score: 2.1092254096478515\n"
     ]
    }
   ],
   "source": [
    "d = (x1_bar - mu)/ 100\n",
    "\n",
    "print('Effect size:', d) ## you are making only 6% difference and it is not very significant \n",
    "## Cohen's d \n",
    "print('z score:', z)"
   ]
  },
  {
   "cell_type": "markdown",
   "metadata": {},
   "source": [
    "Below are commonly used standards when interpreting Cohen's d:\n",
    "\n",
    "\n",
    "<img src=\"cohens_d.png\" alt=\"Cohen's d-table\"\n",
    "\ttitle=\"Cohen's d-statistic\" width=\"450\" height=\"400\" />\n",
    "    \n",
    "Image Source: [PennState Stat 200](https://newonlinecourses.science.psu.edu/stat200/lesson/6/6.4)"
   ]
  },
  {
   "cell_type": "code",
   "execution_count": 47,
   "metadata": {},
   "outputs": [
    {
     "data": {
      "text/plain": [
       "0.02969754304545048"
      ]
     },
     "execution_count": 47,
     "metadata": {},
     "output_type": "execute_result"
    }
   ],
   "source": [
    "## in fact the similar result with less data would look like:\n",
    "n1 = 9\n",
    "np.random.seed(1800)\n",
    "sample = np.random.normal(loc = 506, scale = 100, size = n1)\n",
    "\n",
    "## population mean is mu = 500\n",
    "mu = 500\n",
    "\n",
    "## Sample mean is x1_bar\n",
    "x1_bar = sample.mean()\n",
    "n1 = 12\n",
    "std_error = 100/ np.sqrt(n1)\n",
    "## x1_bar is 506.0888\n",
    "## Is this significant difference from population mean 500?\n",
    "\n",
    "z = (x1_bar - mu)/ std_error\n",
    "\n",
    "## recall that sf = 1 - cdf\n",
    "\n",
    "## is this significant for alpha = 0.05 and with two-tailed test?\n",
    "stats.norm.sf(z)\n",
    "\n"
   ]
  },
  {
   "cell_type": "markdown",
   "metadata": {},
   "source": [
    "## e.g: compute the times different in Atlanta and St. Louis"
   ]
  },
  {
   "cell_type": "code",
   "execution_count": 58,
   "metadata": {},
   "outputs": [
    {
     "name": "stdout",
     "output_type": "stream",
     "text": [
      "Pooled variance is: 17.773369798662266\n",
      "Cohen's d: 0.4017\n",
      "The mean commute time in Atlanta was 0.4017 standard deviations greater than the mean commute time in St. Louis.\n",
      "Using the guidelines for interpreting Cohen's d,  this is a small effect size.\n"
     ]
    }
   ],
   "source": [
    "na, nl = 500, 500\n",
    "xbara, xbarl = 29.110, 21.970\n",
    "sda, sdl = 20.718, 14.232\n",
    "# compute Cohen's d\n",
    "num = (na-1)*np.square(sda) + (nl-1)*np.square(sdl)\n",
    "denum = (na + nl) -2\n",
    "sp = np.sqrt(num/denum)\n",
    "d = (xbara - xbarl)/sp\n",
    "print('Pooled variance is:', sp)\n",
    "print(\"Cohen's d:\", round(d,4))\n",
    "print('The mean commute time in Atlanta was 0.4017 standard deviations greater than the mean commute time in St. Louis.')\n",
    "print('Using the guidelines for interpreting Cohen\\'s d,  this is a small effect size.') \n"
   ]
  },
  {
   "cell_type": "markdown",
   "metadata": {},
   "source": [
    "Note that for small sample size we didn't get a significant result but for very big sample size we were able to show that the mean is significantly different from the population. So the take away is, we should support the use of p_values with other statistics."
   ]
  },
  {
   "cell_type": "markdown",
   "metadata": {},
   "source": [
    "\n",
    "## Introduction\n",
    "\n",
    "- Recall $\\alpha$ is the probability of making Type-I error when the null hypothesis is true.\n",
    "\n",
    "- What about the the probability of making Type - II errors?\n",
    "\n",
    " - (We will call this probability as $\\beta$.)\n",
    " \n",
    "- Power of a statistical test measures an experiment's ability to reject a null-hypothesis when $H_{a}$ is true.\n",
    " \n",
    "\n"
   ]
  },
  {
   "cell_type": "markdown",
   "metadata": {},
   "source": [
    "__Scenerio__\n",
    "\n",
    "Source of this example is: [Statistics For Business and Economics - 9.6](https://www.amazon.com/Statistics-Business-Economics-Book-Only/dp/0324783256)\n",
    "\n",
    "Assume that design specifications require batteries from the supplier to have a mean useful life of at least 120 hours. To evaluate the quality of an incoming shipment, a sample of 36 batteries will be selected and tested. On the basis of the sample, a decision must be made to accept the shipment of batteries or to return it to the supplier because of poor quality. Let μ denote the mean number of hours of useful life for batteries in the shipment. The null and alternative hypotheses about the population mean follow.\n",
    "\n",
    "- $H_{0}$: $\\mu \\geq 120$\n",
    "\n",
    "- $H_{a}$: $\\mu < 120$\n",
    "\n",
    "- and $\\alpha = 0.05$\n",
    "\n",
    "- assume that the population $\\sigma =12$\n",
    "\n",
    "\n",
    "Recall that assuming  population variance $\\sigma$ is known we can use:\n",
    "\n",
    "$$ z  = \\frac{\\bar{x} - \\mu}{\\frac{\\sigma}{\\sqrt{n}}}$$\n",
    "\n",
    "Let's find the critical z-score: (Note that we are using one-tailed hypothesis testing here)"
   ]
  },
  {
   "cell_type": "code",
   "execution_count": 13,
   "metadata": {},
   "outputs": [],
   "source": [
    "import scipy.stats as stats\n",
    "# population information \n",
    "mu, n, sigma, alpha = 120, 36, 12, 0.05"
   ]
  },
  {
   "cell_type": "code",
   "execution_count": 34,
   "metadata": {},
   "outputs": [
    {
     "name": "stdout",
     "output_type": "stream",
     "text": [
      "Critical z value is: -1.645\n",
      "The rejection region is (116.7103, 123.2897)\n",
      "We return the battries if they last less than 116.7103\n",
      ">>z statistic 2.3552\n",
      ">>probablity of TYPE II ERROR: 0.0093\n",
      "Power is: 0.9907\n"
     ]
    }
   ],
   "source": [
    "z_crit = stats.norm.ppf(alpha)\n",
    "print('Critical z value is:', np.round(z_crit,3))\n",
    "moe = z_crit * sigma/np.sqrt(n)\n",
    "xbar_lower = round((mu + moe),4)\n",
    "xbar_upper  = round((mu - moe),4)\n",
    "print('The rejection region is', (xbar_lower, xbar_upper))\n",
    "print('We return the battries if they last less than', xbar_lower)\n",
    "\n",
    "# we update and we heard that the true mean is 120 \n",
    "# let's update our calculation\n",
    "mu_true = 112 \n",
    "# calculate TYPE II ERROR <=> P(Not Rejecting Ho | knowing Ho is actually false)\n",
    "# this will be the area under the curve where the mean greater than 116.7103 for a true distrbution with mean of 112\n",
    "z_stat = (xbar_lower - mu_true)/(sigma/np.sqrt(n))\n",
    "print(\">>z statistic\", round(z_stat,4))\n",
    "beta = stats.norm.sf(z_stat)\n",
    "print(\">>probablity of TYPE II ERROR:\", round(beta,4))\n",
    "print(\"Power is:\", round((1-beta),4))\n"
   ]
  },
  {
   "cell_type": "code",
   "execution_count": 38,
   "metadata": {},
   "outputs": [
    {
     "name": "stdout",
     "output_type": "stream",
     "text": [
      ">> New z statistic is 0.8551500000000019\n",
      ">> probablity of TYPE II ERROR: 0.1962\n",
      ">> Power is: 0.8038\n"
     ]
    }
   ],
   "source": [
    "## what if the true mean is 115\n",
    "mu_true2 = 115\n",
    "# calculate statistic z from our rejectin mean value of 116.7103 (xbar_lower)\n",
    "z_stat2 = (xbar_lower - mu_true2)/(sigma/np.sqrt(n))\n",
    "print('>> New z statistic is', z_stat2)\n",
    "beta2 = stats.norm.sf(z_stat2)\n",
    "print(\">> probablity of TYPE II ERROR:\", round(beta2,4))\n",
    "print(\">> Power is:\", round((1-beta2),4))"
   ]
  },
  {
   "cell_type": "markdown",
   "metadata": {},
   "source": [
    "Note that for any z-score lower than this we can reject the null-hypothesis.\n",
    "\n",
    "Q: Can we find the corresponding critical $\\bar{x}$ values? \n",
    "\n",
    "\n",
    "$$\n",
    "\\begin{equation}\n",
    "    z = \\frac{\\bar{x} - \\mu}{\\frac{\\sigma}{\\sqrt{n}}} \\leq -1.64485 \\\\\n",
    "    \\bar{x} - \\mu \\leq -1.64485 \\frac{\\sigma}{\\sqrt{n}} \\\\\n",
    "    \\bar{x} \\leq \\mu  -1.64485 \\frac{\\sigma}{\\sqrt{n}}\n",
    "\\end{equation}\n",
    "$$"
   ]
  },
  {
   "cell_type": "code",
   "execution_count": 12,
   "metadata": {},
   "outputs": [
    {
     "data": {
      "text/plain": [
       "116.7103"
      ]
     },
     "execution_count": 12,
     "metadata": {},
     "output_type": "execute_result"
    }
   ],
   "source": [
    "## find x_bar explicitly using mu = 120, sigma =12, n =36\n",
    "x_left_hand_side = 120 - 1.64485*(12/36**0.5)\n",
    "x_left_hand_side\n",
    "\n",
    "## hint: x \\leq 116.71"
   ]
  },
  {
   "cell_type": "markdown",
   "metadata": {},
   "source": [
    "Therefore we can say that for any values $\\bar{x} \\leq 116.71$ reject the null-hypothesis and don't reject the null hypothesis for $\\bar{x} > 116.71$. Recall that type - II errors are when we failed to reject null-hypothesis even though it is not true. \n",
    "\n",
    "Now let's suppose the true mean is $\\mu = 112$. Now the probability of type-II error is basically the probability of having a mean greater than 116.71 given the true mean is $112$.\n",
    "\n",
    "In terms of z-scores:\n",
    "\n",
    "$$\n",
    "\\begin{equation}\n",
    "    \\bar{x} \\geq 116.71 \\\\ \n",
    "    \\bar{x} - 112 \\geq 116.71 - 112 \\\\\n",
    "    z = \\frac{\\bar{x} - 112}{\\frac{12}{\\sqrt{36}}} \\geq \\frac{116.71 - 112}{\\frac{12}{\\sqrt{36}}} \\\\\n",
    "\\end{equation}\n",
    "$$\n"
   ]
  },
  {
   "cell_type": "code",
   "execution_count": null,
   "metadata": {},
   "outputs": [],
   "source": [
    "numerator = (116.71-112)\n",
    "\n",
    "denominator = 12/ np.sqrt(36)\n",
    "\n",
    "right_hand_side = numerator/denominator\n",
    "\n",
    "right_hand_side"
   ]
  },
  {
   "cell_type": "markdown",
   "metadata": {},
   "source": [
    "The probability of making type-II error is probability of getting a z_score bigger than 2.3549.\n",
    "\n",
    "Let's use scipy.stats to calculate this probability."
   ]
  },
  {
   "cell_type": "code",
   "execution_count": null,
   "metadata": {},
   "outputs": [],
   "source": [
    "stats.norm.sf(right_hand_side)"
   ]
  },
  {
   "cell_type": "markdown",
   "metadata": {},
   "source": [
    "__Power__ = 1- $\\beta$ = 1 - 0.00926\n",
    "\n",
    "<img src=\"power_of_test.png\" alt=\"Cohen's d-table\"\n",
    "\ttitle=\"Power of a test\" width=\"550\" height=\"500\" />\n",
    "    \n",
    "Note that if the true mean would be $\\mu = 115$, then we would have:"
   ]
  },
  {
   "cell_type": "code",
   "execution_count": 39,
   "metadata": {},
   "outputs": [
    {
     "name": "stdout",
     "output_type": "stream",
     "text": [
      "beta for the test: 0.1962755738745453\n",
      "Power of the test: 0.8037244261254547\n"
     ]
    }
   ],
   "source": [
    "numerator = (116.71 - 115)\n",
    "\n",
    "denominator = 12/ np.sqrt(36)\n",
    "\n",
    "## when the z_score is higher than this score we make a type II error\n",
    "right_hand_side = numerator/denominator\n",
    "\n",
    "## probability of type-II error\n",
    "beta = stats.norm.sf(right_hand_side)\n",
    "print('beta for the test: {}'.format(stats.norm.sf(right_hand_side)))\n",
    "\n",
    "## power of the test for mu = 115\n",
    "\n",
    "power = 1 - beta\n",
    "\n",
    "print('Power of the test: {}'.format(power))"
   ]
  },
  {
   "cell_type": "markdown",
   "metadata": {},
   "source": [
    "## Resources\n",
    "\n",
    "- Null Hypothesis Significance Testing: A Review of an Old and Continuing Controversy - RS Nickerson\n",
    "\n",
    "- [Penn State Statistics Courses](https://newonlinecourses.science.psu.edu/stat200/lesson/6/6.4)\n",
    "\n",
    "- [Statistics For Business and Economics - 9.6](https://www.amazon.com/Statistics-Business-Economics-Book-Only/dp/0324783256)"
   ]
  }
 ],
 "metadata": {
  "kernelspec": {
   "display_name": "Python 3",
   "language": "python",
   "name": "python3"
  },
  "language_info": {
   "codemirror_mode": {
    "name": "ipython",
    "version": 3
   },
   "file_extension": ".py",
   "mimetype": "text/x-python",
   "name": "python",
   "nbconvert_exporter": "python",
   "pygments_lexer": "ipython3",
   "version": "3.7.3"
  }
 },
 "nbformat": 4,
 "nbformat_minor": 2
}

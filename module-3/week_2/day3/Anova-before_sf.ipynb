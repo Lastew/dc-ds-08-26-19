{
 "cells": [
  {
   "cell_type": "markdown",
   "metadata": {},
   "source": [
    "# ANOVA \n",
    "\n",
    "## Introduction\n",
    "\n",
    "ANOVA (Analysis of Variance) is a method for generalizing statistical tests to multiple groups. As you'll see, ANOVA  analyses the overall variance of a dataset by partitioning the total sum of square of deviations (from the mean) into sum of squares for each of these groups and sum of squares for error. By comparing statistical test for multiple groups, it can serve as a useful alternative to the $t$-tests you've encountered thus far, when you wish to test multiple factors simultaneously.\n",
    "\n",
    "## Objectives\n",
    "\n",
    "You will be able to:\n",
    "* Use ANOVA for testing multiple pairwise comparisons\n",
    "* Understand and explain the methodology behind ANOVA tests\n",
    "\n",
    "### Analysis of Variance:\n",
    "\n",
    "- The main problem is: Can we determine whether a set of population means are the same or different from samples from these populations.\n",
    "\n",
    "- Natural Question: Hint: What other test we were using for similar procedure - why can't we use the same (or modified version) here? (Let's count if we have 10 different population how many tests we should do in total?)\n",
    "\n",
    "- Even if we were able to use above method, what happens to the significance levels?\n",
    "\n",
    "The main idea: We will compare variances within the group with the total variance to be able to say that whether population means are equal or not.\n",
    "\n",
    "__Wait!!__ Why use the variance to compare the means?\n",
    "\n",
    "Let's check this from a scenerio!!"
   ]
  },
  {
   "cell_type": "code",
   "execution_count": 19,
   "metadata": {},
   "outputs": [],
   "source": [
    "import numpy as np\n",
    "\n",
    "import pandas as pd\n",
    "import seaborn as sns\n",
    "\n",
    "import matplotlib.pyplot as plt\n",
    "import scipy.stats as stats \n"
   ]
  },
  {
   "cell_type": "code",
   "execution_count": 2,
   "metadata": {},
   "outputs": [],
   "source": [
    "## case1: create 3 sets with means 6,10,15 of size 20 with small variances name them sample1, sample2, sample3\n",
    "#\n",
    "sample1 = np.random.normal(loc=6, scale=1, size=20)\n",
    "sample2 = np.random.normal(loc=10, scale=2, size=20)\n",
    "sample3 = np.random.normal(loc=15, scale=3, size=20)"
   ]
  },
  {
   "cell_type": "code",
   "execution_count": 7,
   "metadata": {},
   "outputs": [
    {
     "name": "stdout",
     "output_type": "stream",
     "text": [
      "(20, 6)\n"
     ]
    },
    {
     "data": {
      "text/html": [
       "<div>\n",
       "<style scoped>\n",
       "    .dataframe tbody tr th:only-of-type {\n",
       "        vertical-align: middle;\n",
       "    }\n",
       "\n",
       "    .dataframe tbody tr th {\n",
       "        vertical-align: top;\n",
       "    }\n",
       "\n",
       "    .dataframe thead th {\n",
       "        text-align: right;\n",
       "    }\n",
       "</style>\n",
       "<table border=\"1\" class=\"dataframe\">\n",
       "  <thead>\n",
       "    <tr style=\"text-align: right;\">\n",
       "      <th></th>\n",
       "      <th>sample_1</th>\n",
       "      <th>sample_2</th>\n",
       "      <th>sample_3</th>\n",
       "      <th>sample_4</th>\n",
       "      <th>sample_5</th>\n",
       "      <th>sample_6</th>\n",
       "    </tr>\n",
       "  </thead>\n",
       "  <tbody>\n",
       "    <tr>\n",
       "      <th>0</th>\n",
       "      <td>6.318384</td>\n",
       "      <td>12.646145</td>\n",
       "      <td>17.186284</td>\n",
       "      <td>7.201568</td>\n",
       "      <td>15.395373</td>\n",
       "      <td>36.444348</td>\n",
       "    </tr>\n",
       "    <tr>\n",
       "      <th>1</th>\n",
       "      <td>5.787989</td>\n",
       "      <td>9.381738</td>\n",
       "      <td>15.984268</td>\n",
       "      <td>20.223466</td>\n",
       "      <td>12.740533</td>\n",
       "      <td>12.218961</td>\n",
       "    </tr>\n",
       "    <tr>\n",
       "      <th>2</th>\n",
       "      <td>5.384321</td>\n",
       "      <td>8.463865</td>\n",
       "      <td>11.002264</td>\n",
       "      <td>6.126330</td>\n",
       "      <td>13.394046</td>\n",
       "      <td>12.382193</td>\n",
       "    </tr>\n",
       "    <tr>\n",
       "      <th>3</th>\n",
       "      <td>7.024941</td>\n",
       "      <td>10.251847</td>\n",
       "      <td>14.727031</td>\n",
       "      <td>15.084659</td>\n",
       "      <td>16.894203</td>\n",
       "      <td>46.091607</td>\n",
       "    </tr>\n",
       "    <tr>\n",
       "      <th>4</th>\n",
       "      <td>4.568197</td>\n",
       "      <td>9.083784</td>\n",
       "      <td>17.266804</td>\n",
       "      <td>2.659348</td>\n",
       "      <td>5.237337</td>\n",
       "      <td>26.555297</td>\n",
       "    </tr>\n",
       "  </tbody>\n",
       "</table>\n",
       "</div>"
      ],
      "text/plain": [
       "   sample_1   sample_2   sample_3   sample_4   sample_5   sample_6\n",
       "0  6.318384  12.646145  17.186284   7.201568  15.395373  36.444348\n",
       "1  5.787989   9.381738  15.984268  20.223466  12.740533  12.218961\n",
       "2  5.384321   8.463865  11.002264   6.126330  13.394046  12.382193\n",
       "3  7.024941  10.251847  14.727031  15.084659  16.894203  46.091607\n",
       "4  4.568197   9.083784  17.266804   2.659348   5.237337  26.555297"
      ]
     },
     "execution_count": 7,
     "metadata": {},
     "output_type": "execute_result"
    }
   ],
   "source": [
    "## case2: Create 3 sets with means 6,10,15 of size 20 with bigger variances\n",
    "\n",
    "sample4 = np.random.normal(loc=15, scale=10, size=20)\n",
    "sample5 = np.random.normal(loc=15, scale=15, size=20)\n",
    "sample6 =np.random.normal(loc=15, scale=20, size=20)\n",
    "\n",
    "## put these samples in a dataframe and relabel columns\n",
    "\n",
    "# df = pd.DataFrame(data = [sample1, sample2, sample3, sample4, sample5, sample6]).T\n",
    "df_another = pd.DataFrame(data = np.stack([sample1, sample2, sample3, sample4, sample5, sample6], axis=1),\n",
    "                          columns=['sample_1', 'sample_2', 'sample_3', 'sample_4', 'sample_5', 'sample_6'])\n",
    "# check the other stack method to convert this as \n",
    "# df.head()\n",
    "print(df_another.shape)\n",
    "df_another.head()"
   ]
  },
  {
   "cell_type": "code",
   "execution_count": 9,
   "metadata": {},
   "outputs": [
    {
     "data": {
      "image/png": "[encoded data removed]",
      "text/plain": [
       "<Figure size 432x288 with 1 Axes>"
      ]
     },
     "metadata": {
      "needs_background": "light"
     },
     "output_type": "display_data"
    }
   ],
   "source": [
    "## plot the data using boxplots - also mark the means\n",
    "df_another.boxplot(showmeans=True)\n",
    "plt.tight_layout()"
   ]
  },
  {
   "cell_type": "code",
   "execution_count": 10,
   "metadata": {},
   "outputs": [
    {
     "name": "stdout",
     "output_type": "stream",
     "text": [
      "Means of the samples are:  5.856386577381059 9.74640725756149 14.550389303815319 \n",
      " 12.558656416026912 13.57669241904856 20.252535858316847\n"
     ]
    }
   ],
   "source": [
    "## lets print the means of the samples\n",
    "\n",
    "print('Means of the samples are: ', sample1.mean(), \n",
    "      sample2.mean(),\n",
    "      sample3.mean(), '\\n',\n",
    "      sample4.mean(),\n",
    "      sample5.mean(),\n",
    "      sample6.mean())"
   ]
  },
  {
   "cell_type": "markdown",
   "metadata": {},
   "source": [
    "Note that here even though the variations of $\\{s_1, s_2, s_3\\}$ equals to the variations of the means in $\\{s_4, s_5, s_6\\}$ we can see this as a stronger evidence to argue that the population means are different in the first group.\n",
    "\n",
    "__Summary__ ANOVA: comparison of the variance among the means of the populations to the variance among sample observations within the individual populations.\n",
    "\n",
    "### Notation\n",
    "\n",
    "- $t$: total number of populations\n",
    "\n",
    "- $n_{i}$ number of observations within the sample $i$ drawn from the population $i$.\n",
    "\n",
    "- $y_{ij}$: the measurement for the $j$th observation from the $i$th sample.\n",
    "\n",
    "- $\\mu_{i}$ is the mean for the $i$th population.\n",
    "\n",
    "__observations__\n",
    "\n",
    "$n = \\sum\\limits_{i} n_{i}$ is the total number of observations\n",
    "\n",
    "### Hypotheses\n",
    "\n",
    "-  $H_{0}: \\mu_{1} = \\mu_{2} = \\cdots = \\mu_{t}$ \n",
    "\n",
    "- $H_{a}$: at least one of the equality is not satisfied"
   ]
  },
  {
   "cell_type": "markdown",
   "metadata": {},
   "source": [
    "## Experiment with F-statistics\n",
    "\n",
    "__step1__\n",
    "\n",
    "- Choose a sample of 20 from a normal distribution with $\\mu=20$ and $\\sigma=2$ and repeat this process 1000 times record variance each time\n",
    "\n",
    "- Repeat the same process but this time with $\\mu = 20$, $\\sigma = 2$"
   ]
  },
  {
   "cell_type": "code",
   "execution_count": 15,
   "metadata": {},
   "outputs": [],
   "source": [
    "# creat a list to hold variances for 20 samples with mu =20 and std = 2\n",
    "var_lst1 = []\n",
    "for i in range(1000):\n",
    "    s = np.random.normal(loc=20, scale=2, size=20)\n",
    "    var = s.var(ddof=1)\n",
    "    var_lst1.append(var)"
   ]
  },
  {
   "cell_type": "markdown",
   "metadata": {},
   "source": [
    "__step2__\n",
    "\n",
    "Look at the ratio of the variances and plot it."
   ]
  },
  {
   "cell_type": "code",
   "execution_count": 17,
   "metadata": {},
   "outputs": [
    {
     "data": {
      "text/plain": [
       "1000"
      ]
     },
     "execution_count": 17,
     "metadata": {},
     "output_type": "execute_result"
    }
   ],
   "source": [
    "# creat a another list to hold variances for 20 samples with mu =10 and std = 2\n",
    "var_lst2 = []\n",
    "for i in range(1000):\n",
    "    s = np.random.normal(loc=10, scale=2, size=20)\n",
    "    var = s.var(ddof=1)\n",
    "    var_lst2.append(var)\n",
    "len(var_lst2)"
   ]
  },
  {
   "cell_type": "code",
   "execution_count": 14,
   "metadata": {},
   "outputs": [
    {
     "ename": "NameError",
     "evalue": "name 'df' is not defined",
     "output_type": "error",
     "traceback": [
      "\u001b[0;31m---------------------------------------------------------------------------\u001b[0m",
      "\u001b[0;31mNameError\u001b[0m                                 Traceback (most recent call last)",
      "\u001b[0;32m<ipython-input-14-3299479fac8e>\u001b[0m in \u001b[0;36m<module>\u001b[0;34m\u001b[0m\n\u001b[0;32m----> 1\u001b[0;31m \u001b[0mdf\u001b[0m\u001b[0;34m.\u001b[0m\u001b[0mboxplot\u001b[0m\u001b[0;34m(\u001b[0m\u001b[0mshowmeans\u001b[0m\u001b[0;34m=\u001b[0m\u001b[0;32mTrue\u001b[0m\u001b[0;34m)\u001b[0m\u001b[0;34m\u001b[0m\u001b[0;34m\u001b[0m\u001b[0m\n\u001b[0m",
      "\u001b[0;31mNameError\u001b[0m: name 'df' is not defined"
     ]
    }
   ],
   "source": [
    "df.boxplot(showmeans=True)"
   ]
  },
  {
   "cell_type": "code",
   "execution_count": null,
   "metadata": {},
   "outputs": [],
   "source": [
    "f_score = np.array(var_lst1)"
   ]
  },
  {
   "cell_type": "code",
   "execution_count": null,
   "metadata": {},
   "outputs": [],
   "source": [
    "\n",
    "sns.distplot(var_lst1)"
   ]
  },
  {
   "cell_type": "code",
   "execution_count": 24,
   "metadata": {},
   "outputs": [],
   "source": [
    "# list of variance \n",
    "# var_lst1"
   ]
  },
  {
   "cell_type": "code",
   "execution_count": null,
   "metadata": {},
   "outputs": [],
   "source": []
  },
  {
   "cell_type": "code",
   "execution_count": null,
   "metadata": {},
   "outputs": [],
   "source": []
  },
  {
   "cell_type": "code",
   "execution_count": null,
   "metadata": {},
   "outputs": [],
   "source": []
  },
  {
   "cell_type": "code",
   "execution_count": null,
   "metadata": {},
   "outputs": [],
   "source": [
    "var_chi = []\n",
    "for i in range(1000):\n",
    "    s = np.random.normal(loc=10, scale=2, size=4)\n",
    "    var = s.var(ddof=1)\n",
    "    var_chi.append(var)\n",
    "len(var_chi)\n",
    "sns.distplot(var_chi)"
   ]
  },
  {
   "cell_type": "code",
   "execution_count": 20,
   "metadata": {},
   "outputs": [
    {
     "data": {
      "text/plain": [
       "<matplotlib.axes._subplots.AxesSubplot at 0x1a1b7f5208>"
      ]
     },
     "execution_count": 20,
     "metadata": {},
     "output_type": "execute_result"
    },
    {
     "data": {
      "image/png": "[encoded data removed]",
      "text/plain": [
       "<Figure size 432x288 with 1 Axes>"
      ]
     },
     "metadata": {
      "needs_background": "light"
     },
     "output_type": "display_data"
    }
   ],
   "source": [
    "f_scores = np.array(var_lst1)/np.array(var_lst2)\n",
    "sns.distplot(f_scores)"
   ]
  },
  {
   "cell_type": "code",
   "execution_count": 26,
   "metadata": {},
   "outputs": [],
   "source": [
    "from scipy.stats import f\n",
    "import scipy.stats as stats\n",
    "stats.f.cdf"
   ]
  },
  {
   "cell_type": "code",
   "execution_count": 27,
   "metadata": {},
   "outputs": [
    {
     "data": {
      "text/plain": [
       "<matplotlib.legend.Legend at 0x1a1c546cc0>"
      ]
     },
     "execution_count": 27,
     "metadata": {},
     "output_type": "execute_result"
    },
    {
     "data": {
      "image/png": "[encoded data removed]",
      "text/plain": [
       "<Figure size 432x288 with 1 Axes>"
      ]
     },
     "metadata": {
      "needs_background": "light"
     },
     "output_type": "display_data"
    }
   ],
   "source": [
    "## An example of F statistics\n",
    "\n",
    "fig, ax = plt.subplots(1, 1)\n",
    "dfn, dfd = 19,19\n",
    "\n",
    "\n",
    "x = np.linspace(f.ppf(0.01, dfn, dfd),\n",
    "                f.ppf(0.99, dfn, dfd), 100)\n",
    "\n",
    "ax.plot(x, f.pdf(x, dfn, dfd),\n",
    "       'r-', lw=5, alpha=0.6, label='f pdf')\n",
    "\n",
    "rv = f(dfn, dfd)\n",
    "ax.plot(x, rv.pdf(x), 'k-', lw=2, label='frozen pdf')\n",
    "\n",
    "ax.legend(loc='best', frameon=False)"
   ]
  },
  {
   "cell_type": "markdown",
   "metadata": {},
   "source": [
    "## ANOVA"
   ]
  },
  {
   "cell_type": "code",
   "execution_count": null,
   "metadata": {},
   "outputs": [],
   "source": [
    "## let's create a data set first\n",
    "\n",
    "\n",
    "## sample sizes for different groups\n",
    "n1 =20\n",
    "n2=20\n",
    "n3 =20\n",
    "n4 = 20\n",
    "\n",
    "## number of groups\n",
    "t = 4"
   ]
  },
  {
   "cell_type": "code",
   "execution_count": null,
   "metadata": {},
   "outputs": [],
   "source": [
    "x1 = np.random.normal(loc = 950, scale = 100, size = n1)\n",
    "\n",
    "x2 = np.random.normal(loc = 928, scale = 100, size = n2)\n",
    "\n",
    "x3 = np.random.normal(loc = 938, scale = 100, size = n3)\n",
    "\n",
    "x4 = np.random.normal(loc = 1116, scale = 100, size = n4)\n",
    "\n",
    "df = pd.DataFrame(data = np.stack([x1, x2,x3,x4], axis = 1), columns= ['s1', 's2', 's3', 's4'])\n",
    "df.head()"
   ]
  },
  {
   "cell_type": "code",
   "execution_count": null,
   "metadata": {},
   "outputs": [],
   "source": [
    "df.boxplot(showmeans = True)\n",
    "plt.tight_layout()\n",
    "plt.show()"
   ]
  },
  {
   "cell_type": "markdown",
   "metadata": {},
   "source": [
    "## Hypothesis\n",
    "\n",
    "$H_{0}$: $\\mu_{1} = \\mu_{2} = \\mu_{3} = \\mu_{4}$\n",
    "\n",
    "$H_{a}$: not all means are equal.\n",
    "\n",
    "$\\alpha = 0.05$"
   ]
  },
  {
   "cell_type": "code",
   "execution_count": null,
   "metadata": {},
   "outputs": [],
   "source": [
    "## for the first group\n",
    "\n",
    "y1_bar = x1.mean()\n",
    "\n",
    "ss1 = x1.var(ddof =1) # within group variance \n",
    "\n",
    "## for the second group\n",
    "\n",
    "y2_bar = x2.mean()\n",
    "\n",
    "ss2 = x2.var(ddof = 1) # within group variance \n",
    "\n",
    "## for the third group\n",
    "\n",
    "y3_bar = x3.mean()\n",
    "\n",
    "ss3 = x3.var(ddof = 1) # within group variance \n",
    "\n",
    "## for the last group\n",
    "\n",
    "y4_bar = x4.mean()\n",
    "\n",
    "ss4 = x4.var(ddof =1) # within group variance "
   ]
  },
  {
   "cell_type": "code",
   "execution_count": null,
   "metadata": {},
   "outputs": [],
   "source": [
    "## pooled variance = total variance / p\n",
    "\n",
    "s_p = sum([ss1, ss2, ss3, ss4])/ (sum([n1, n2, n3, n4]) - 4)"
   ]
  },
  {
   "cell_type": "code",
   "execution_count": null,
   "metadata": {},
   "outputs": [],
   "source": [
    "y = np.sum([x1,x2,x3,x4])\n",
    "\n",
    "y_bar = y/(n1 + n2 + n3 + n4)\n",
    "\n",
    "ns_means =(n1 + n2 + n3 + n4)*(np.sum([(y1_bar - y_bar)**2, \n",
    "                                       (y2_bar - y_bar)**2,\n",
    "                                       (y3_bar - y_bar)**2, \n",
    "                                       (y4_bar - y_bar)**2 ])) / (t-1)"
   ]
  },
  {
   "cell_type": "code",
   "execution_count": null,
   "metadata": {},
   "outputs": [],
   "source": [
    "f_score = ns_means/s_p\n",
    "f_score"
   ]
  },
  {
   "cell_type": "code",
   "execution_count": null,
   "metadata": {},
   "outputs": [],
   "source": [
    "dfn = t - 1  # population number - one\n",
    "\n",
    "dfd = (n1 + n2 + n3 + n4)- t # total number - one \n",
    "print(dfn)\n",
    "print(dfd)"
   ]
  },
  {
   "cell_type": "code",
   "execution_count": null,
   "metadata": {},
   "outputs": [],
   "source": [
    "1 - f.cdf(f_score, dfn, dfd)"
   ]
  },
  {
   "cell_type": "code",
   "execution_count": null,
   "metadata": {},
   "outputs": [],
   "source": []
  },
  {
   "cell_type": "code",
   "execution_count": null,
   "metadata": {},
   "outputs": [],
   "source": []
  },
  {
   "cell_type": "markdown",
   "metadata": {},
   "source": [
    "# ANOVA Formula\n",
    "$$ \\large F = \\large \\frac{MST}{MSE} $$\n",
    "Where, <br>\n",
    "**F = Anova Coefficient**<br>\n",
    "**MST = Mean Sum of Squares due to treatment**<br>\n",
    "**MSE = Mean Sum of Squares due to error**<br>\n",
    "\n",
    "Formaula for MST is given as: \n",
    "$$ \\large MST = \\large \\frac{SST}{p-1} $$\n",
    "\n",
    "$$ \\large {SST} = \\sum\\large{n}\\large(x - \\bar{x})^{2} $$\n",
    "\n",
    "Where, <br>\n",
    "**SST = Sum of Squares due to treatment**<br>\n",
    "**p = Total number of populations**<br>\n",
    "**n = The total number of samples in a population**\n",
    "\n",
    "Formula for MSE is:\n",
    "$$ \\large MSE = \\large\\frac{SSE}{N-p} $$\n",
    "\n",
    "$$ \\large {SSE} = \\sum(n - 1)\\large s^{2} $$\n",
    "\n",
    "Where, <br>\n",
    "\n",
    "**SSE  = Sum of Squares due to error**<br>\n",
    "**S = Standard deviation of the samples** <br>\n",
    "**N = Total number of observations**"
   ]
  },
  {
   "cell_type": "code",
   "execution_count": 28,
   "metadata": {},
   "outputs": [],
   "source": [
    "# assing the number of variabl\n",
    "n1 = n2 = n3 = n4 = 20\n",
    "p = 4\n",
    "x1 = np.random.normal(loc = 950, scale = 100, size = n1)\n",
    "x2 = np.random.normal(loc = 928, scale = 100, size = n2)\n",
    "x3 = np.random.normal(loc = 938, scale = 100, size = n3)\n",
    "x4 = np.random.normal(loc = 1116, scale = 100, size = n4)"
   ]
  },
  {
   "cell_type": "code",
   "execution_count": 29,
   "metadata": {},
   "outputs": [],
   "source": [
    "xbar1, xbar2, xbar3, xbar4 = x1.mean(), x2.mean(), x3.mean(), x4.mean()\n",
    "var1, var2, var3, var4 = x1.var(ddof=1), x1.var(ddof=1), x1.var(ddof=1), x1.var(ddof=1)"
   ]
  },
  {
   "cell_type": "code",
   "execution_count": 30,
   "metadata": {},
   "outputs": [
    {
     "name": "stdout",
     "output_type": "stream",
     "text": [
      "Anova Coefficient is: 482.06\n"
     ]
    }
   ],
   "source": [
    "# numenator \n",
    "SSE = sum([(n1-1)*var1, (n2-1)*var2, (n3-1)*var3, (n4-1)*var4])\n",
    "MSE = SSE / (sum([n1, n2, n3, n4]) - p)\n",
    "\n",
    "# Denumenator \n",
    "SST = np.sum([n1*(x1-xbar1)**2, n2*(x2-xbar2)**2, n3*(x3-xbar3)**2, n4*(x4-xbar4)**2])\n",
    "MST = SST / (p-1)\n",
    "\n",
    "# calculate F statistics \n",
    "F_stat = MST/MSE\n",
    "print(\"Anova Coefficient is:\", round(F_stat,2))"
   ]
  },
  {
   "cell_type": "code",
   "execution_count": 31,
   "metadata": {},
   "outputs": [
    {
     "name": "stdout",
     "output_type": "stream",
     "text": [
      "Numerator Degree of Freedom is: 3\n",
      "Denominator Degree of Freedom is: 76\n",
      "The probability is: 1.1102230246251565e-16\n"
     ]
    }
   ],
   "source": [
    "# calculating a probability \n",
    "dfn, dfd = p-1, np.sum([n1, n2, n3, n4]) - p\n",
    "print('Numerator Degree of Freedom is:', dfn)\n",
    "print('Denominator Degree of Freedom is:', dfd)\n",
    "\n",
    "p_val = 1 - f.cdf(F_stat, dfn=dfn, dfd=dfd)\n",
    "print(\"The probability is:\", p_val)"
   ]
  },
  {
   "cell_type": "code",
   "execution_count": null,
   "metadata": {},
   "outputs": [],
   "source": []
  }
 ],
 "metadata": {
  "kernelspec": {
   "display_name": "Python 3",
   "language": "python",
   "name": "python3"
  },
  "language_info": {
   "codemirror_mode": {
    "name": "ipython",
    "version": 3
   },
   "file_extension": ".py",
   "mimetype": "text/x-python",
   "name": "python",
   "nbconvert_exporter": "python",
   "pygments_lexer": "ipython3",
   "version": "3.7.3"
  }
 },
 "nbformat": 4,
 "nbformat_minor": 2
}

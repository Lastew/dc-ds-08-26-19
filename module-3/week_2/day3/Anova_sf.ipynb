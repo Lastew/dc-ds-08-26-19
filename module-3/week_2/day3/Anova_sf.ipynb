{
 "cells": [
  {
   "cell_type": "markdown",
   "metadata": {},
   "source": [
    "# ANOVA \n",
    "\n",
    "## Introduction\n",
    "\n",
    "ANOVA (Analysis of Variance) is a method for generalizing statistical tests to multiple groups. As you'll see, ANOVA  analyses the overall variance of a dataset by partitioning the total sum of square of deviations (from the mean) into sum of squares for each of these groups and sum of squares for error. By comparing statistical test for multiple groups, it can serve as a useful alternative to the $t$-tests you've encountered thus far, when you wish to test multiple factors simultaneously.\n",
    "\n",
    "## Objectives\n",
    "\n",
    "You will be able to:\n",
    "* Use ANOVA for testing multiple pairwise comparisons\n",
    "* Understand and explain the methodology behind ANOVA tests\n",
    "\n",
    "### Analysis of Variance:\n",
    "\n",
    "- The main problem is: Can we determine whether a set of population means are the same or different from samples from these populations.\n",
    "\n",
    "- Natural Question: Hint: What other test we were using for similar procedure - why can't we use the same (or modified version) here? (Let's count if we have 10 different population how many tests we should do in total?)\n",
    "\n",
    "- Even if we were able to use above method, what happens to the significance levels?\n",
    "\n",
    "The main idea: We will compare variances within the group with the total variance to be able to say that whether population means are equal or not.\n",
    "\n",
    "__Wait!!__ Why use the variance to compare the means?\n",
    "\n",
    "Let's check this from a scenerio!!"
   ]
  },
  {
   "cell_type": "code",
   "execution_count": 1,
   "metadata": {},
   "outputs": [],
   "source": [
    "import numpy as np\n",
    "\n",
    "import pandas as pd\n",
    "\n",
    "import matplotlib.pyplot as plt\n",
    "\n"
   ]
  },
  {
   "cell_type": "code",
   "execution_count": 2,
   "metadata": {},
   "outputs": [
    {
     "data": {
      "text/html": [
       "<div>\n",
       "<style scoped>\n",
       "    .dataframe tbody tr th:only-of-type {\n",
       "        vertical-align: middle;\n",
       "    }\n",
       "\n",
       "    .dataframe tbody tr th {\n",
       "        vertical-align: top;\n",
       "    }\n",
       "\n",
       "    .dataframe thead th {\n",
       "        text-align: right;\n",
       "    }\n",
       "</style>\n",
       "<table border=\"1\" class=\"dataframe\">\n",
       "  <thead>\n",
       "    <tr style=\"text-align: right;\">\n",
       "      <th></th>\n",
       "      <th>0</th>\n",
       "      <th>1</th>\n",
       "      <th>2</th>\n",
       "      <th>3</th>\n",
       "      <th>4</th>\n",
       "      <th>5</th>\n",
       "    </tr>\n",
       "  </thead>\n",
       "  <tbody>\n",
       "    <tr>\n",
       "      <th>0</th>\n",
       "      <td>6.030622</td>\n",
       "      <td>10.000609</td>\n",
       "      <td>16.359473</td>\n",
       "      <td>8.797928</td>\n",
       "      <td>11.862176</td>\n",
       "      <td>18.653656</td>\n",
       "    </tr>\n",
       "    <tr>\n",
       "      <th>1</th>\n",
       "      <td>6.037547</td>\n",
       "      <td>9.925283</td>\n",
       "      <td>15.029938</td>\n",
       "      <td>6.115260</td>\n",
       "      <td>15.104964</td>\n",
       "      <td>6.752641</td>\n",
       "    </tr>\n",
       "    <tr>\n",
       "      <th>2</th>\n",
       "      <td>6.040922</td>\n",
       "      <td>10.081332</td>\n",
       "      <td>16.792776</td>\n",
       "      <td>1.716936</td>\n",
       "      <td>21.075562</td>\n",
       "      <td>3.367448</td>\n",
       "    </tr>\n",
       "    <tr>\n",
       "      <th>3</th>\n",
       "      <td>6.155769</td>\n",
       "      <td>10.093549</td>\n",
       "      <td>14.944157</td>\n",
       "      <td>2.918534</td>\n",
       "      <td>16.419322</td>\n",
       "      <td>15.218960</td>\n",
       "    </tr>\n",
       "    <tr>\n",
       "      <th>4</th>\n",
       "      <td>5.861737</td>\n",
       "      <td>10.311630</td>\n",
       "      <td>15.686325</td>\n",
       "      <td>6.272399</td>\n",
       "      <td>19.652254</td>\n",
       "      <td>13.524058</td>\n",
       "    </tr>\n",
       "  </tbody>\n",
       "</table>\n",
       "</div>"
      ],
      "text/plain": [
       "          0          1          2         3          4          5\n",
       "0  6.030622  10.000609  16.359473  8.797928  11.862176  18.653656\n",
       "1  6.037547   9.925283  15.029938  6.115260  15.104964   6.752641\n",
       "2  6.040922  10.081332  16.792776  1.716936  21.075562   3.367448\n",
       "3  6.155769  10.093549  14.944157  2.918534  16.419322  15.218960\n",
       "4  5.861737  10.311630  15.686325  6.272399  19.652254  13.524058"
      ]
     },
     "execution_count": 2,
     "metadata": {},
     "output_type": "execute_result"
    }
   ],
   "source": [
    "## case1\n",
    "\n",
    "sample1 = np.random.normal(loc = 6, scale = 0.1, size = 20)\n",
    "\n",
    "sample2 = np.random.normal(loc = 10, scale = 0.2, size = 20)\n",
    "\n",
    "sample3 = np.random.normal(loc = 15, scale = 1, size = 20)\n",
    "\n",
    "## case2\n",
    "\n",
    "sample4 = np.random.normal(loc = 6, scale = 3, size = 20)\n",
    "sample5 = np.random.normal(loc = 10, scale = 5, size = 20)\n",
    "sample6 = np.random.normal(loc = 15, scale = 5, size = 20)\n",
    "\n",
    "df = pd.DataFrame(data = [sample1, sample2, sample3, sample4, sample5, sample6]).T\n",
    "\n",
    "df.head()"
   ]
  },
  {
   "cell_type": "code",
   "execution_count": 3,
   "metadata": {},
   "outputs": [],
   "source": [
    "df.rename(columns= {0:'s1', 1:'s2', 2:'s3', 3:'s4', 4:'s5', 5:'s6'}, inplace= True)"
   ]
  },
  {
   "cell_type": "code",
   "execution_count": 4,
   "metadata": {},
   "outputs": [],
   "source": [
    "import seaborn as sns"
   ]
  },
  {
   "cell_type": "code",
   "execution_count": 5,
   "metadata": {},
   "outputs": [
    {
     "data": {
      "image/png": "[encoded data removed]",
      "text/plain": [
       "<Figure size 432x288 with 1 Axes>"
      ]
     },
     "metadata": {
      "needs_background": "light"
     },
     "output_type": "display_data"
    }
   ],
   "source": [
    "df.boxplot()\n",
    "plt.tight_layout()"
   ]
  },
  {
   "cell_type": "code",
   "execution_count": 6,
   "metadata": {},
   "outputs": [
    {
     "name": "stdout",
     "output_type": "stream",
     "text": [
      "Means of the samples are:  6.016342733288058 10.027482331657499 15.174285895925488 \n",
      " 6.058658828640036 10.766234388684527 13.644620482198036\n"
     ]
    }
   ],
   "source": [
    "print('Means of the samples are: ', sample1.mean(), \n",
    "      sample2.mean(),\n",
    "      sample3.mean(), '\\n',\n",
    "      sample4.mean(),\n",
    "      sample5.mean(),\n",
    "      sample6.mean())"
   ]
  },
  {
   "cell_type": "markdown",
   "metadata": {},
   "source": [
    "Note that here even though the variations of $\\{s_1, s_2, s_3\\}$ equals to the variations of the means in $\\{s_4, s_5, s_6\\}$ we can see this as a stronger evidence to argue that the population means are different in the first group.\n",
    "\n",
    "__Summary__ ANOVA: comparison of the variance among the means of the populations to the variance among sample observations within the individual populations.\n",
    "\n",
    "### Notation\n",
    "\n",
    "- $t$: total number of populations\n",
    "\n",
    "- $n_{i}$ number of observations within the sample $i$ drawn from the population $i$.\n",
    "\n",
    "- $y_{ij}$: the measurement for the $j$th observation from the $i$th sample.\n",
    "\n",
    "- $\\mu_{i}$ is the mean for the $i$th population.\n",
    "\n",
    "__observations__\n",
    "\n",
    "$n = \\sum\\limits_{i} n_{i}$ is the total number of observations\n",
    "\n",
    "### Hypotheses\n",
    "\n",
    "-  $H_{0}: \\mu_{1} = \\mu_{2} = \\cdots = \\mu_{t}$ \n",
    "\n",
    "- $H_{a}$: at least one of the equality is not satisfied"
   ]
  },
  {
   "cell_type": "code",
   "execution_count": 7,
   "metadata": {},
   "outputs": [],
   "source": [
    "from scipy.stats import f"
   ]
  },
  {
   "cell_type": "code",
   "execution_count": 8,
   "metadata": {},
   "outputs": [],
   "source": [
    "f_dist = np.random.f(1, 20, size = 30)"
   ]
  },
  {
   "cell_type": "code",
   "execution_count": 9,
   "metadata": {},
   "outputs": [
    {
     "data": {
      "text/plain": [
       "<matplotlib.axes._subplots.AxesSubplot at 0x1a213285c0>"
      ]
     },
     "execution_count": 9,
     "metadata": {},
     "output_type": "execute_result"
    },
    {
     "data": {
      "image/png": "[encoded data removed]",
      "text/plain": [
       "<Figure size 432x288 with 1 Axes>"
      ]
     },
     "metadata": {
      "needs_background": "light"
     },
     "output_type": "display_data"
    }
   ],
   "source": [
    "sns.distplot(f_dist, )"
   ]
  },
  {
   "cell_type": "code",
   "execution_count": 10,
   "metadata": {},
   "outputs": [
    {
     "data": {
      "text/plain": [
       "<matplotlib.legend.Legend at 0x1a214bc9b0>"
      ]
     },
     "execution_count": 10,
     "metadata": {},
     "output_type": "execute_result"
    },
    {
     "data": {
      "image/png": "[encoded data removed]",
      "text/plain": [
       "<Figure size 432x288 with 1 Axes>"
      ]
     },
     "metadata": {
      "needs_background": "light"
     },
     "output_type": "display_data"
    }
   ],
   "source": [
    "fig, ax = plt.subplots(1, 1)\n",
    "dfn, dfd = 19,19\n",
    "\n",
    "\n",
    "x = np.linspace(f.ppf(0.01, dfn, dfd),\n",
    "                f.ppf(0.99, dfn, dfd), 100)\n",
    "\n",
    "ax.plot(x, f.pdf(x, dfn, dfd),\n",
    "       'r-', lw=5, alpha=0.6, label='f pdf')\n",
    "\n",
    "rv = f(dfn, dfd)\n",
    "ax.plot(x, rv.pdf(x), 'k-', lw=2, label='frozen pdf')\n",
    "\n",
    "ax.legend(loc='best', frameon=False)"
   ]
  },
  {
   "cell_type": "code",
   "execution_count": null,
   "metadata": {},
   "outputs": [],
   "source": [
    "sampling_variance = []\n",
    "for i in range(1000):\n",
    "    x1 = np.random.normal(10,2, 4)\n",
    "    sampling_variance.append(x1.var(ddof = 1))\n",
    "    "
   ]
  },
  {
   "cell_type": "code",
   "execution_count": null,
   "metadata": {},
   "outputs": [],
   "source": [
    "sampling_variance2 = []\n",
    "\n",
    "for j in range(1000):\n",
    "    x2 = np.random.normal(20, 2 , 20)\n",
    "    sampling_variance2.append(x2.var(ddof =1))"
   ]
  },
  {
   "cell_type": "code",
   "execution_count": null,
   "metadata": {},
   "outputs": [],
   "source": [
    "f_score = [ a/b for a, b in zip(sampling_variance, sampling_variance2)]"
   ]
  },
  {
   "cell_type": "code",
   "execution_count": null,
   "metadata": {},
   "outputs": [],
   "source": [
    "sns.distplot(f_score)"
   ]
  },
  {
   "cell_type": "code",
   "execution_count": null,
   "metadata": {},
   "outputs": [],
   "source": [
    "## let's create a data set first\n",
    "\n",
    "\n",
    "## sample sizes for different groups\n",
    "n1 =20\n",
    "n2=20\n",
    "n3 =20\n",
    "n4 = 20\n",
    "\n",
    "## number of groups\n",
    "t = 4"
   ]
  },
  {
   "cell_type": "code",
   "execution_count": null,
   "metadata": {},
   "outputs": [],
   "source": [
    "np.random.seed(100719)\n",
    "\n",
    "x1 = np.random.normal(loc = 950, scale = 100, size = n1)\n",
    "\n",
    "x2 = np.random.normal(loc = 928, scale = np.sqrt(3800), size = n2)\n",
    "\n",
    "x3 = np.random.normal(loc = 938, scale = np.sqrt(13617), size = n3)\n",
    "\n",
    "x4 = np.random.normal(loc = 1116, scale = np.sqrt(23000), size = n4)\n",
    "\n",
    "df = pd.DataFrame(data = np.stack([x1, x2,x3,x4], axis = 1), columns= ['s1', 's2', 's3', 's4'],\n",
    "                  index = np.arange(1, len(x2)+1))"
   ]
  },
  {
   "cell_type": "code",
   "execution_count": null,
   "metadata": {},
   "outputs": [],
   "source": [
    "df.head()"
   ]
  },
  {
   "cell_type": "markdown",
   "metadata": {},
   "source": [
    "## Hypothesis\n",
    "\n",
    "$H_{0}$: $\\mu_{1} = \\mu_{2} = \\mu_{3} = \\mu_{4}$\n",
    "\n",
    "$H_{a}$: not all means are equal.\n",
    "\n",
    "For more details on how to construct hypotheses testing with ANOVA model please check:\n",
    "\n",
    "[Penn State - The 7 Step Process of Statistical Hypothesis Testing](https://newonlinecourses.science.psu.edu/stat502/lesson/1/1.2)\n",
    "\n",
    "\n",
    "\n",
    "\n",
    "\n"
   ]
  },
  {
   "cell_type": "code",
   "execution_count": null,
   "metadata": {},
   "outputs": [],
   "source": [
    "## Let's find these quantities with Python\n",
    "\n",
    "all_data = np.stack([x1, x2,x3,x4], axis = 1)\n",
    "overall_mean = all_data.mean()"
   ]
  },
  {
   "cell_type": "code",
   "execution_count": null,
   "metadata": {},
   "outputs": [],
   "source": [
    "## Note that all_data is a (20,4) numpy_ndarray\n",
    "ss_total = ((all_data - overall_mean)**2).sum()\n",
    "\n",
    "## Function that calculates between group error\n",
    "def ss_between_groups(sample_list):\n",
    "    X_bar = np.stack(sample_list, axis=1).mean()\n",
    "    terms = [len(sample)*(sample.mean() - X_bar)**2 for sample in sample_list]\n",
    "    return np.sum(terms)\n",
    "print(ss_between_groups([x1, x2, x3, x4]))"
   ]
  },
  {
   "cell_type": "code",
   "execution_count": null,
   "metadata": {},
   "outputs": [],
   "source": [
    "## Note that right now we can find the error within the groups\n",
    "## by simply subtracting ss_between_groups from ss_total\n",
    "\n",
    "ss_within = ss_total - ss_between_groups([x1, x2, x3, x4])\n",
    "\n",
    "print(ss_within)"
   ]
  },
  {
   "cell_type": "code",
   "execution_count": null,
   "metadata": {},
   "outputs": [],
   "source": [
    "## Or we can apply the formula:\n",
    "## A function that calculates within group error\n",
    "def ss_within_groups(sample_list):\n",
    "    terms = [(sample - sample.mean())**2 for sample in sample_list]\n",
    "    return np.sum(terms)"
   ]
  },
  {
   "cell_type": "code",
   "execution_count": null,
   "metadata": {},
   "outputs": [],
   "source": [
    "print('Within Group Error', ss_within_groups([x1, x2, x3, x4]))\n",
    "print('Between Group Error', ss_between_groups([x1, x2, x3, x4]))\n",
    "print('Mean Squared Error', ss_between_groups([x1, x2, x3, x4])/dfn)\n",
    "print('Mean Squared Error', ss_within_groups([x1, x2, x3, x4])/ dfd)"
   ]
  },
  {
   "cell_type": "code",
   "execution_count": null,
   "metadata": {},
   "outputs": [],
   "source": [
    "## Degrees of freedom of numerator\n",
    "dfn = len([x1, x2, x3, x4]) - 1\n",
    "\n",
    "## Degree of freedom of denominator\n",
    "dfd = n1+n2+n3+n4 - len([x1, x2, x3,x4])\n",
    "\n",
    "MSE_between_groups = ss_between_groups([x1, x2, x3, x4])/dfn\n",
    "MSE_within_groups = ss_within_groups([x1, x2, x3, x4])/ dfd\n",
    "\n",
    "## F_score comes from the ratio\n",
    "F_score = MSE_between_groups/ MSE_within_groups\n",
    "print(F_score)"
   ]
  },
  {
   "cell_type": "code",
   "execution_count": null,
   "metadata": {},
   "outputs": [],
   "source": [
    "## Or we can apply directly scipy.stats's f_oneway method \n",
    "\n",
    "import scipy.stats\n",
    "scipy.stats.f_oneway(x1,x2,x3,x4)"
   ]
  },
  {
   "cell_type": "markdown",
   "metadata": {},
   "source": [
    "For more details about the notation and formulas please check:\n",
    "\n",
    "[Penn State](https://newonlinecourses.science.psu.edu/stat502/lesson/2/2.2)"
   ]
  }
 ],
 "metadata": {
  "kernelspec": {
   "display_name": "learn-env",
   "language": "python",
   "name": "learn-env"
  },
  "language_info": {
   "codemirror_mode": {
    "name": "ipython",
    "version": 3
   },
   "file_extension": ".py",
   "mimetype": "text/x-python",
   "name": "python",
   "nbconvert_exporter": "python",
   "pygments_lexer": "ipython3",
   "version": "3.6.6"
  },
  "toc": {
   "base_numbering": 1,
   "nav_menu": {},
   "number_sections": true,
   "sideBar": true,
   "skip_h1_title": false,
   "title_cell": "Table of Contents",
   "title_sidebar": "Contents",
   "toc_cell": false,
   "toc_position": {},
   "toc_section_display": true,
   "toc_window_display": true
  }
 },
 "nbformat": 4,
 "nbformat_minor": 2
}

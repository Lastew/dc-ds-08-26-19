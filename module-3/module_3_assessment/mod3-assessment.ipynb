{
 "cells": [
  {
   "cell_type": "markdown",
   "metadata": {},
   "source": [
    "# Module 3 Assessment"
   ]
  },
  {
   "cell_type": "markdown",
   "metadata": {},
   "source": [
    "Welcome to your Mod 3 Assessment. You will be tested for your understanding of concepts and ability to solve problems that have been covered in class and in the curriculum.\n",
    "\n",
    "Use any libraries you want to solve the problems in the assessment.\n",
    "\n",
    "_Read the instructions carefully_. You will be asked both to write code and respond to a few short answer questions.\n",
    "\n",
    "**Note on the short answer questions**: For the short answer questions please use your own words. The expectation is that you have not copied and pasted from an external source, even if you consult another source to help craft your response. While the short answer questions are not necessarily being assessed on grammatical correctness or sentence structure, you should do your best to communicate yourself clearly.\n",
    "\n",
    "The sections of the assessment are:\n",
    "- Combinatorics, Probability and Discrete Distributions\n",
    "- Statistical Distributions\n",
    "- Statistical Tests\n",
    "- Bayes' Theorem\n",
    "\n"
   ]
  },
  {
   "cell_type": "code",
   "execution_count": 1,
   "metadata": {},
   "outputs": [],
   "source": [
    "# import the necessary libraries\n",
    "import numpy as np\n",
    "import pandas as pd \n",
    "from scipy import stats\n",
    "import matplotlib.pyplot as plt\n",
    "import pickle"
   ]
  },
  {
   "cell_type": "markdown",
   "metadata": {},
   "source": [
    "## Part 1: Combinatorics, Probability & Discrete Distributions [Suggested time: 20 minutes]\n",
    "\n",
    "### a. Set Theory\n",
    "\n",
    "Given the following probabilities:\n",
    "\n",
    "$P(A) = 0.7$\n",
    "\n",
    "$P(B) = 0.5$\n",
    "\n",
    "$P(B|A) = 0.4$\n",
    "\n",
    "Calculate the following probabilities and assign to the variables `ans1` and `ans2`, respectively, in the next cell:\n",
    "\n",
    "1.a.1) $P(A and B)$\n",
    "1.a.2) $P(A|B)$\n",
    "\n",
    "Hint: draw a diagram!\n"
   ]
  },
  {
   "cell_type": "code",
   "execution_count": 2,
   "metadata": {},
   "outputs": [
    {
     "name": "stdout",
     "output_type": "stream",
     "text": [
      "ans1 0.27999999999999997\n",
      "ans2 0.5599999999999999\n"
     ]
    }
   ],
   "source": [
    "ans1 =  0.4 * 0.7\n",
    "ans2 = ans1/0.5\n",
    "print('ans1', ans1)\n",
    "print('ans2', ans2)"
   ]
  },
  {
   "cell_type": "markdown",
   "metadata": {},
   "source": [
    "### b. Card Combinatorics\n",
    "\n",
    "A standard deck of playing cards consists of 52 cards in each of the four suits of spades, hearts, diamonds, and clubs. Each suit contains 13 cards: Ace, 2, 3, 4, 5, 6, 7, 8, 9, 10, Jack, Queen, and King.\n",
    "    \n",
    "You have a standard deck of 52 cards and are asked the following questions:\n",
    "\n",
    "1.b.1) What is the probability of drawing a King or a Queen?\n",
    "\n",
    "1.b.2) How many possible 5-card combinations can be formed with this deck of 52 cards?\n",
    "\n",
    "Answer the questions below:"
   ]
  },
  {
   "cell_type": "code",
   "execution_count": 4,
   "metadata": {},
   "outputs": [
    {
     "name": "stdout",
     "output_type": "stream",
     "text": [
      "ans1 0.15384615384615385\n",
      "ans2 2598960.0\n"
     ]
    }
   ],
   "source": [
    "import math\n",
    "ans1 = (4 + 4)/52 # there are 4 king's an 4 queen's \n",
    "ans2 = math.factorial(52)/(math.factorial(52-5) * math.factorial(5))\n",
    "print('ans1', ans1)\n",
    "print('ans2', ans2)"
   ]
  },
  {
   "cell_type": "markdown",
   "metadata": {},
   "source": [
    "### c. Discrete Probability Distributions\n",
    "\n",
    "In a game with the same deck of 52 cards, you draw a card $n$ times with replacement. You win a point by drawing a face card (Jack, Queen, or King). \n",
    "\n",
    "The function `probability_of_scoring_k` is provided below. In this function, $k$ is the number of points won in the game, $n$ is the number of draws, and $p$ is the probability of winning a point. The function returns the corresponding probability of scoring $k$ points given $n$ and $p$."
   ]
  },
  {
   "cell_type": "code",
   "execution_count": 6,
   "metadata": {},
   "outputs": [],
   "source": [
    "def probability_of_scoring_k(n, p, k):\n",
    "    \"\"\"\n",
    "    n = number of draws\n",
    "    p = probability of winning a point\n",
    "    k = number of points scored\n",
    "    \n",
    "    Use np.factorial()\n",
    "    \n",
    "    \"\"\"\n",
    "    \n",
    "    # defining a helper function for factorial\n",
    "    def fact(n):\n",
    "        return np.math.factorial(n)\n",
    "    \n",
    "    return (fact(n)/(fact(k)*fact(n-k)))*(p**(k))*((1-p)**(n-k))"
   ]
  },
  {
   "cell_type": "markdown",
   "metadata": {},
   "source": [
    "1.c.1) What is the probability $p$ of winning a point? "
   ]
  },
  {
   "cell_type": "code",
   "execution_count": 7,
   "metadata": {},
   "outputs": [
    {
     "name": "stdout",
     "output_type": "stream",
     "text": [
      "probability of winning a point 0.23076923076923078\n"
     ]
    }
   ],
   "source": [
    "# your code here \n",
    "p = (4 + 4 + 4 )/ 52 # there are 3 face cards\n",
    "print('probability of winning a point', p)"
   ]
  },
  {
   "cell_type": "markdown",
   "metadata": {},
   "source": [
    "1.c.2) Use the function `probability_of_scoring_k` to compute the probability of scoring 8 points out out of 22 draws."
   ]
  },
  {
   "cell_type": "code",
   "execution_count": 8,
   "metadata": {},
   "outputs": [
    {
     "name": "stdout",
     "output_type": "stream",
     "text": [
      "0.06532117736042573\n"
     ]
    }
   ],
   "source": [
    "# your code here \n",
    "ans1 = probability_of_scoring_k(n=22, p=p, k=8)\n",
    "print(ans1)"
   ]
  },
  {
   "cell_type": "markdown",
   "metadata": {},
   "source": [
    "1.c.3) Use the function `probability_of_scoring_k` to calculate the probability of drawing $k$ points out of 22 draws, for $k$ ranging from 0 to 22. \n",
    "\n",
    "_Hint: Your final result should be in the form of a list or array._"
   ]
  },
  {
   "cell_type": "code",
   "execution_count": 12,
   "metadata": {},
   "outputs": [
    {
     "name": "stdout",
     "output_type": "stream",
     "text": [
      "23\n"
     ]
    }
   ],
   "source": [
    "# your code here\n",
    "k_values = range(23)\n",
    "p_values = [probability_of_scoring_k(n=22, p=p, k=i) for i in k_values]\n",
    "print(len(p_values))"
   ]
  },
  {
   "cell_type": "markdown",
   "metadata": {},
   "source": [
    "1.c.4) Plot your results to create the probability mass function. Use a bar plot. What type of distribution does the `probability_of_scoring_k` have?"
   ]
  },
  {
   "cell_type": "code",
   "execution_count": 13,
   "metadata": {},
   "outputs": [
    {
     "data": {
      "image/png": "[encoded data removed]",
      "text/plain": [
       "<Figure size 576x360 with 1 Axes>"
      ]
     },
     "metadata": {},
     "output_type": "display_data"
    }
   ],
   "source": [
    "# your code here \n",
    "import matplotlib.pyplot as plt\n",
    "%matplotlib inline\n",
    "plt.style.use('ggplot')\n",
    "plt.figure(figsize=(8,5))\n",
    "\n",
    "plt.bar(k_values, p_values);\n",
    "plt.title(\"The Probability Mass Function\");\n",
    "plt.xlabel('number of points')\n",
    "plt.ylabel('Probability')\n",
    "plt.show()"
   ]
  },
  {
   "cell_type": "code",
   "execution_count": 14,
   "metadata": {},
   "outputs": [],
   "source": [
    "# your answer here \n",
    "# This is a Bernoulli distribution with distinct values "
   ]
  },
  {
   "cell_type": "markdown",
   "metadata": {},
   "source": [
    "## Part 2: Statistical Distributions [Suggested time: 25 minutes]"
   ]
  },
  {
   "cell_type": "markdown",
   "metadata": {},
   "source": [
    "### a. Normal Distributions\n",
    "\n",
    "Say we have check totals for all checks ever written at a TexMex restaurant. \n",
    "\n",
    "The distribution for this population of check totals happens to be normally distributed with a population mean of $\\mu = 20$ and population standard deviation of $\\sigma = 2$. "
   ]
  },
  {
   "cell_type": "markdown",
   "metadata": {},
   "source": [
    "2.a.1) Write a function to compute the z-scores for single checks of amount `check_amt`."
   ]
  },
  {
   "cell_type": "code",
   "execution_count": 18,
   "metadata": {},
   "outputs": [],
   "source": [
    "def z_score(check_amt):\n",
    "    \"\"\"\n",
    "    check_amt = the amount for which we want to compute the z-score\n",
    "    \"\"\"\n",
    "    z_score = (check_amt - mu)/(sigma)\n",
    "    \n",
    "    return z_score"
   ]
  },
  {
   "cell_type": "markdown",
   "metadata": {},
   "source": [
    "2.a.2) I go to the TexMex restaurant and get a check for 24 dollars. \n",
    "\n",
    "Use your function to compute your check's z-score, and interpret the result using the empirical rule. "
   ]
  },
  {
   "cell_type": "code",
   "execution_count": 19,
   "metadata": {},
   "outputs": [
    {
     "data": {
      "text/plain": [
       "2.0"
      ]
     },
     "execution_count": 19,
     "metadata": {},
     "output_type": "execute_result"
    }
   ],
   "source": [
    "# your code here \n",
    "mu = 20\n",
    "sigma = 2\n",
    "\n",
    "# check's z-score\n",
    "z_score(24)\n"
   ]
  },
  {
   "cell_type": "code",
   "execution_count": 37,
   "metadata": {},
   "outputs": [],
   "source": [
    "# your answer here\n",
    "# the above normal distribution has a mean of 20 and sigama of 2. The above calcualted z_score (24) is exactly at \n",
    "# two standard divation away . i.e 16 <= confidence interval <= 24"
   ]
  },
  {
   "cell_type": "markdown",
   "metadata": {},
   "source": [
    "2.a.3) Using $\\alpha = 0.05$, is my 25 dollar check significantly **greater** than the mean? How do you know this?  \n",
    "\n",
    "Hint: Here's a link to a [z-table](https://www.math.arizona.edu/~rsims/ma464/standardnormaltable.pdf) but you can also use some libraries available in python."
   ]
  },
  {
   "cell_type": "code",
   "execution_count": 23,
   "metadata": {},
   "outputs": [
    {
     "name": "stdout",
     "output_type": "stream",
     "text": [
      "z_score <function z_score at 0x1a14d9d7b8>\n",
      "Probabilty of 25 dollar check 0.005390000000000006\n"
     ]
    }
   ],
   "source": [
    "# your code here \n",
    "# calculate z-score for 25 dollar check\n",
    "z_score(25)\n",
    "print('z_score', z_score)\n",
    "\n",
    "# look for p on z-table\n",
    "p_25dollar =  1 - 0.99461 \n",
    "print('Probabilty of 25 dollar check', p_25dollar)\n"
   ]
  },
  {
   "cell_type": "code",
   "execution_count": 39,
   "metadata": {},
   "outputs": [],
   "source": [
    "# your answer here \n",
    "# looking the above p_value of 0.0054, the 25 dollar check is significantly greater than the mean (20 dollar)"
   ]
  },
  {
   "cell_type": "markdown",
   "metadata": {},
   "source": [
    "### b. Confidence Intervals and the Central Limit Theorem"
   ]
  },
  {
   "cell_type": "markdown",
   "metadata": {},
   "source": [
    "2.b.1) Determine the 95% confidence interval around the mean check total for this population. Interpret your result. "
   ]
  },
  {
   "cell_type": "code",
   "execution_count": 25,
   "metadata": {},
   "outputs": [
    {
     "name": "stdout",
     "output_type": "stream",
     "text": [
      "Critical z_value 1.959963984540054\n",
      "95% confidence interval around the mean is: (16.080072030919894, 23.919927969080106)\n"
     ]
    }
   ],
   "source": [
    "# your code here \n",
    "z_crit = stats.norm.ppf(q=1-0.025)\n",
    "print('Critical z_value', z_crit)\n",
    "moe = z_crit * sigma  # margin of error\n",
    "conf = (mu - moe, mu + moe)\n",
    "print('95% confidence interval around the mean is:', conf)\n"
   ]
  },
  {
   "cell_type": "code",
   "execution_count": 41,
   "metadata": {},
   "outputs": [],
   "source": [
    "# your written answer here\n",
    "# if we are doing two tailed test, if we are taking a lot of samples and calucate there mean,\n",
    "# we should see the means failes within the confidence interval at 95% confidence level  "
   ]
  },
  {
   "cell_type": "markdown",
   "metadata": {},
   "source": [
    "2.b.2) Imagine that we didn't know how the population of check totals was distributed. How would **sampling** and the **Central Limit Theorem** allow us to **make inferences on the population mean**, i.e. estimate $\\mu$ of the population mean?"
   ]
  },
  {
   "cell_type": "code",
   "execution_count": 42,
   "metadata": {},
   "outputs": [],
   "source": [
    "# Your written answer here\n",
    "# The Central Limit Theorem says that if we take a number of repeated samples from the population and calculate \n",
    "# the average mean and standard devation of the samples, the samples means will tend to a normal distribution. "
   ]
  },
  {
   "cell_type": "markdown",
   "metadata": {},
   "source": [
    "## Part 3: Statistical Testing [Suggested time: 15 minutes]"
   ]
  },
  {
   "cell_type": "markdown",
   "metadata": {},
   "source": [
    "The TexMex restaurant recently introduced Queso to its menu.\n",
    "\n",
    "We have random samples of 1000 \"No Queso\" order check totals and 1000 \"Queso\" order check totals for orders made by different customers.\n",
    "\n",
    "In the cell below, we load the sample data for you into the arrays `no_queso` and `queso` for the \"no queso\" and \"queso\" order check totals. Then, we create histograms of the distribution of the check amounts for the \"no queso\" and \"queso\" samples. "
   ]
  },
  {
   "cell_type": "code",
   "execution_count": 26,
   "metadata": {},
   "outputs": [
    {
     "data": {
      "image/png": "[encoded data removed]",
      "text/plain": [
       "<Figure size 864x288 with 2 Axes>"
      ]
     },
     "metadata": {},
     "output_type": "display_data"
    }
   ],
   "source": [
    "# Load the sample data \n",
    "no_queso = pickle.load(open(\"data/no_queso.pkl\", \"rb\"))\n",
    "queso = pickle.load(open(\"data/queso.pkl\", \"rb\"))\n",
    "\n",
    "# Plot histograms\n",
    "\n",
    "fig, (ax1, ax2) = plt.subplots(1, 2, figsize=(12, 4))\n",
    "\n",
    "ax1.set_title('Sample of Non-Queso Check Totals')\n",
    "ax1.set_xlabel('Amount')\n",
    "ax1.set_ylabel('Frequency')\n",
    "ax1.hist(no_queso, bins=20)\n",
    "\n",
    "ax2.set_title('Sample of Queso Check Totals')\n",
    "ax2.set_xlabel('Amount')\n",
    "ax2.set_ylabel('Frequency')\n",
    "ax2.hist(queso, bins=20)\n",
    "plt.show()"
   ]
  },
  {
   "cell_type": "markdown",
   "metadata": {},
   "source": [
    "### a. Hypotheses and Errors\n",
    "\n",
    "The restaurant owners want to know if customers who order Queso spend **more or less** than customers who do not order Queso.\n",
    "\n",
    "3.a.1) Set up the null $H_{0}$ and alternative hypotheses $H_{A}$ for this test."
   ]
  },
  {
   "cell_type": "code",
   "execution_count": 44,
   "metadata": {},
   "outputs": [],
   "source": [
    "# Your written answer here\n",
    "# Null hypotheses = There is no difference in check totals between customers ordering Queso or non-Queso \n",
    "# Alternative hypotheses = There is a difference in check totals between customers ordering Queso or non-Queso "
   ]
  },
  {
   "cell_type": "markdown",
   "metadata": {},
   "source": [
    "3.a.2) What does it mean to make `Type I` and `Type II` errors in this specific context?"
   ]
  },
  {
   "cell_type": "code",
   "execution_count": 45,
   "metadata": {},
   "outputs": [],
   "source": [
    "# your answer here\n",
    "# Type I = saying the total check in queso customers are different when they are the same\n",
    "\n",
    "# Type II: saying the total check in queso customers are the same when they are different"
   ]
  },
  {
   "cell_type": "markdown",
   "metadata": {},
   "source": [
    "### b. Sample Testing"
   ]
  },
  {
   "cell_type": "markdown",
   "metadata": {},
   "source": [
    "3.b.1) Run a statistical test on the two samples. Use a significance level of $\\alpha = 0.05$. You can assume the two samples have equal variance. Can you reject the null hypothesis? \n",
    "\n",
    "_Hint: Use `scipy.stats`._"
   ]
  },
  {
   "cell_type": "code",
   "execution_count": 30,
   "metadata": {},
   "outputs": [
    {
     "name": "stdout",
     "output_type": "stream",
     "text": [
      "no-queso mean 20.047532509358607\n",
      "queso mean 23.992814607054243\n"
     ]
    },
    {
     "data": {
      "text/plain": [
       "Ttest_indResult(statistic=45.16857748646329, pvalue=1.29670967092511e-307)"
      ]
     },
     "execution_count": 30,
     "metadata": {},
     "output_type": "execute_result"
    }
   ],
   "source": [
    "# your code here \n",
    "print('no-queso mean', no_queso.mean())\n",
    "print('queso mean', queso.mean())\n",
    "stats.ttest_ind(queso, no_queso, equal_var=True)"
   ]
  },
  {
   "cell_type": "code",
   "execution_count": 47,
   "metadata": {},
   "outputs": [],
   "source": [
    "# your answer here\n",
    "# Since the resulting p_value is way less than the significance level, we can say the means are siginificanlty\n",
    "# differnt and reject the Null hypotesis"
   ]
  },
  {
   "cell_type": "markdown",
   "metadata": {},
   "source": [
    "## Part 4: Bayes' Theorem [Suggested time: 15 minutes]"
   ]
  },
  {
   "cell_type": "markdown",
   "metadata": {},
   "source": [
    "Thomas wants to get a new puppy 🐕 🐶 🐩 \n",
    "\n",
    "\n",
    "<img src=\"https://media.giphy.com/media/rD8R00QOKwfxC/giphy.gif\" />\n",
    "\n",
    "He can choose to get his new puppy either from the pet store or the pound. The probability of him going to the pet store is $0.2$. \n",
    "\n",
    "He can choose to get either a big, medium or small puppy.\n",
    "\n",
    "If he goes to the pet store, the probability of him getting a small puppy is $0.6$. The probability of him getting a medium puppy is $0.3$, and the probability of him getting a large puppy is $0.1$.\n",
    "\n",
    "If he goes to the pound, the probability of him getting a small puppy is $0.1$. The probability of him getting a medium puppy is $0.35$, and the probability of him getting a large puppy is $0.55$.\n",
    "\n",
    "4.a.1) What is the probability of Thomas getting a small puppy?\n",
    "4.a.2) Given that he got a large puppy, what is the probability that Thomas went to the pet store?\n",
    "4.a.3) Given that Thomas got a small puppy, is it more likely that he went to the pet store or to the pound?\n",
    "4.a.4) For Part 2, what is the prior, posterior and likelihood?"
   ]
  },
  {
   "cell_type": "code",
   "execution_count": 36,
   "metadata": {},
   "outputs": [],
   "source": [
    "p_ps, p_p = 0.2, 1-0.2  # ps= pet store and p= pound \n",
    "p_s_given_ps = 0.6\n",
    "p_m_given_ps = 0.3\n",
    "p_l_given_ps = 0.1\n",
    "p_s_given_p = 0.1\n",
    "p_m_given_p = 0.35\n",
    "p_l_given_p = 0.55\n",
    "# print(p_p)"
   ]
  },
  {
   "cell_type": "code",
   "execution_count": 35,
   "metadata": {},
   "outputs": [
    {
     "name": "stdout",
     "output_type": "stream",
     "text": [
      "probability of Thomas getting a small puppy 0.2\n",
      "probability of Thomas going to pet store knowing he gets large puppy 0.043478260869565216\n",
      "probability of Thomas going to pet store knowing he gets small puppy 0.12\n",
      "probability of Thomas going to pound knowing he gets small puppy 0.08000000000000002\n",
      "Thomas probably went to a pet store to get his small puppy\n"
     ]
    }
   ],
   "source": [
    "ans1 = p_ps * p_s_given_ps + p_p * p_s_given_p\n",
    "ans2 = (p_l_given_ps * p_ps)/((p_l_given_ps * p_ps) + (p_l_given_p * p_p))\n",
    "ans_ps = p_s_given_ps * p_ps\n",
    "ans_p = p_s_given_p * p_p\n",
    "print('probability of Thomas getting a small puppy', ans1)\n",
    "print('probability of Thomas going to pet store knowing he gets large puppy', ans2)\n",
    "print('probability of Thomas going to pet store knowing he gets small puppy', ans_ps)\n",
    "print('probability of Thomas going to pound knowing he gets small puppy', ans_p)\n",
    "print('Thomas probably went to a pet store to get his small puppy')"
   ]
  },
  {
   "cell_type": "code",
   "execution_count": 48,
   "metadata": {},
   "outputs": [],
   "source": [
    "ans4_prior = \"Probablity of Thomas going to a pet store\"\n",
    "ans4_posterior = \"Probablity of Thomas going to a pet store knowing that he gets a large pupppy\"\n",
    "ans4_likelihood = \"Probablity of Thomas getting large pupppy knowing that he went to pet store\""
   ]
  }
 ],
 "metadata": {
  "kernelspec": {
   "display_name": "learn-env",
   "language": "python",
   "name": "learn-env"
  },
  "language_info": {
   "codemirror_mode": {
    "name": "ipython",
    "version": 3
   },
   "file_extension": ".py",
   "mimetype": "text/x-python",
   "name": "python",
   "nbconvert_exporter": "python",
   "pygments_lexer": "ipython3",
   "version": "3.6.6"
  },
  "toc": {
   "base_numbering": 1,
   "nav_menu": {},
   "number_sections": true,
   "sideBar": true,
   "skip_h1_title": false,
   "title_cell": "Table of Contents",
   "title_sidebar": "Contents",
   "toc_cell": false,
   "toc_position": {},
   "toc_section_display": true,
   "toc_window_display": false
  }
 },
 "nbformat": 4,
 "nbformat_minor": 2
}

{
 "cells": [
  {
   "cell_type": "markdown",
   "metadata": {},
   "source": [
    "# Evaluating and Tuning a Binary Classification Model"
   ]
  },
  {
   "cell_type": "markdown",
   "metadata": {},
   "source": [
    "## Goals\n",
    "\n",
    "After this lesson, you should be able to:\n",
    "\n",
    "- Build and explain confusion matrices from a model output\n",
    "- Calculate various binary classification metrics\n",
    "- Explain the AUC/ROC curve, why it matters, and how to use it\n",
    "- Understand when and how to optimize a model for various metrics\n",
    "- Optimize a classification model based on costs"
   ]
  },
  {
   "cell_type": "markdown",
   "metadata": {},
   "source": [
    "### Category definitions - possible outcomes in binary classification\n",
    " \n",
    "#### - TP = True Positive (class 1 correctly classified as class 1) - e.g. Patient with cancer tests positive for cancer\n",
    "#### - TN = True Negative (class 0 correctly classified as class 0) - e.g. Patient without cancer tests negative for cancer\n",
    "#### - FP = False Positive (class 0 incorrectly classified as class 1) - e.g. Patient without cancer tests positive for cancer\n",
    "#### - FN = False Negative (class 1 incorrectly classified as class 0) - e.g. Patient with cancer tests negative for cancer"
   ]
  },
  {
   "cell_type": "markdown",
   "metadata": {},
   "source": [
    "### $$ \\text{Possible misclassifications} $$\n",
    "\n",
    "![Type 1 vs. Type 2 Error](images/type-1-type-2.jpg)\n",
    "\n",
    "## All the Binary Classification Metrics\n",
    "\n",
    "![classification metrics](./images/conf_matrix_classification_metrics.png)"
   ]
  },
  {
   "cell_type": "markdown",
   "metadata": {},
   "source": [
    "## Let's run a model and look at some metrics "
   ]
  },
  {
   "cell_type": "code",
   "execution_count": 7,
   "metadata": {},
   "outputs": [],
   "source": [
    "import numpy as np\n",
    "import pandas as pd\n",
    "from sklearn.linear_model import LogisticRegression\n",
    "from sklearn.metrics import confusion_matrix, classification_report\n",
    "from sklearn.model_selection import train_test_split\n",
    "from sklearn.model_selection import cross_validate\n",
    "from sklearn.model_selection import StratifiedKFold\n",
    "import seaborn as sns\n",
    "import matplotlib.pyplot as plt\n",
    "from sklearn.metrics import roc_curve, auc\n",
    "%matplotlib inline"
   ]
  },
  {
   "cell_type": "markdown",
   "metadata": {},
   "source": [
    "[Dataset info](https://archive.ics.uci.edu/ml/datasets/Heart+Disease)"
   ]
  },
  {
   "cell_type": "code",
   "execution_count": 8,
   "metadata": {},
   "outputs": [
    {
     "data": {
      "text/html": [
       "<div>\n",
       "<style scoped>\n",
       "    .dataframe tbody tr th:only-of-type {\n",
       "        vertical-align: middle;\n",
       "    }\n",
       "\n",
       "    .dataframe tbody tr th {\n",
       "        vertical-align: top;\n",
       "    }\n",
       "\n",
       "    .dataframe thead th {\n",
       "        text-align: right;\n",
       "    }\n",
       "</style>\n",
       "<table border=\"1\" class=\"dataframe\">\n",
       "  <thead>\n",
       "    <tr style=\"text-align: right;\">\n",
       "      <th></th>\n",
       "      <th>age</th>\n",
       "      <th>sex</th>\n",
       "      <th>cp</th>\n",
       "      <th>trestbps</th>\n",
       "      <th>chol</th>\n",
       "      <th>fbs</th>\n",
       "      <th>restecg</th>\n",
       "      <th>thalach</th>\n",
       "      <th>exang</th>\n",
       "      <th>oldpeak</th>\n",
       "      <th>slope</th>\n",
       "      <th>ca</th>\n",
       "      <th>thal</th>\n",
       "      <th>target</th>\n",
       "    </tr>\n",
       "  </thead>\n",
       "  <tbody>\n",
       "    <tr>\n",
       "      <th>0</th>\n",
       "      <td>63</td>\n",
       "      <td>1</td>\n",
       "      <td>3</td>\n",
       "      <td>145</td>\n",
       "      <td>233</td>\n",
       "      <td>1</td>\n",
       "      <td>0</td>\n",
       "      <td>150</td>\n",
       "      <td>0</td>\n",
       "      <td>2.3</td>\n",
       "      <td>0</td>\n",
       "      <td>0</td>\n",
       "      <td>1</td>\n",
       "      <td>1</td>\n",
       "    </tr>\n",
       "    <tr>\n",
       "      <th>1</th>\n",
       "      <td>37</td>\n",
       "      <td>1</td>\n",
       "      <td>2</td>\n",
       "      <td>130</td>\n",
       "      <td>250</td>\n",
       "      <td>0</td>\n",
       "      <td>1</td>\n",
       "      <td>187</td>\n",
       "      <td>0</td>\n",
       "      <td>3.5</td>\n",
       "      <td>0</td>\n",
       "      <td>0</td>\n",
       "      <td>2</td>\n",
       "      <td>1</td>\n",
       "    </tr>\n",
       "    <tr>\n",
       "      <th>2</th>\n",
       "      <td>41</td>\n",
       "      <td>0</td>\n",
       "      <td>1</td>\n",
       "      <td>130</td>\n",
       "      <td>204</td>\n",
       "      <td>0</td>\n",
       "      <td>0</td>\n",
       "      <td>172</td>\n",
       "      <td>0</td>\n",
       "      <td>1.4</td>\n",
       "      <td>2</td>\n",
       "      <td>0</td>\n",
       "      <td>2</td>\n",
       "      <td>1</td>\n",
       "    </tr>\n",
       "    <tr>\n",
       "      <th>3</th>\n",
       "      <td>56</td>\n",
       "      <td>1</td>\n",
       "      <td>1</td>\n",
       "      <td>120</td>\n",
       "      <td>236</td>\n",
       "      <td>0</td>\n",
       "      <td>1</td>\n",
       "      <td>178</td>\n",
       "      <td>0</td>\n",
       "      <td>0.8</td>\n",
       "      <td>2</td>\n",
       "      <td>0</td>\n",
       "      <td>2</td>\n",
       "      <td>1</td>\n",
       "    </tr>\n",
       "    <tr>\n",
       "      <th>4</th>\n",
       "      <td>57</td>\n",
       "      <td>0</td>\n",
       "      <td>0</td>\n",
       "      <td>120</td>\n",
       "      <td>354</td>\n",
       "      <td>0</td>\n",
       "      <td>1</td>\n",
       "      <td>163</td>\n",
       "      <td>1</td>\n",
       "      <td>0.6</td>\n",
       "      <td>2</td>\n",
       "      <td>0</td>\n",
       "      <td>2</td>\n",
       "      <td>1</td>\n",
       "    </tr>\n",
       "  </tbody>\n",
       "</table>\n",
       "</div>"
      ],
      "text/plain": [
       "   age  sex  cp  trestbps  chol  fbs  restecg  thalach  exang  oldpeak  slope  \\\n",
       "0   63    1   3       145   233    1        0      150      0      2.3      0   \n",
       "1   37    1   2       130   250    0        1      187      0      3.5      0   \n",
       "2   41    0   1       130   204    0        0      172      0      1.4      2   \n",
       "3   56    1   1       120   236    0        1      178      0      0.8      2   \n",
       "4   57    0   0       120   354    0        1      163      1      0.6      2   \n",
       "\n",
       "   ca  thal  target  \n",
       "0   0     1       1  \n",
       "1   0     2       1  \n",
       "2   0     2       1  \n",
       "3   0     2       1  \n",
       "4   0     2       1  "
      ]
     },
     "execution_count": 8,
     "metadata": {},
     "output_type": "execute_result"
    }
   ],
   "source": [
    "df = pd.read_csv('./data/heart.csv')\n",
    "df.head()"
   ]
  },
  {
   "cell_type": "code",
   "execution_count": 9,
   "metadata": {},
   "outputs": [
    {
     "name": "stdout",
     "output_type": "stream",
     "text": [
      "(303, 21)\n"
     ]
    },
    {
     "data": {
      "text/html": [
       "<div>\n",
       "<style scoped>\n",
       "    .dataframe tbody tr th:only-of-type {\n",
       "        vertical-align: middle;\n",
       "    }\n",
       "\n",
       "    .dataframe tbody tr th {\n",
       "        vertical-align: top;\n",
       "    }\n",
       "\n",
       "    .dataframe thead th {\n",
       "        text-align: right;\n",
       "    }\n",
       "</style>\n",
       "<table border=\"1\" class=\"dataframe\">\n",
       "  <thead>\n",
       "    <tr style=\"text-align: right;\">\n",
       "      <th></th>\n",
       "      <th>age</th>\n",
       "      <th>trestbps</th>\n",
       "      <th>chol</th>\n",
       "      <th>thalach</th>\n",
       "      <th>oldpeak</th>\n",
       "      <th>thal</th>\n",
       "      <th>target</th>\n",
       "      <th>sex_1</th>\n",
       "      <th>cp_1</th>\n",
       "      <th>cp_2</th>\n",
       "      <th>...</th>\n",
       "      <th>fbs_1</th>\n",
       "      <th>restecg_1</th>\n",
       "      <th>restecg_2</th>\n",
       "      <th>ca_1</th>\n",
       "      <th>ca_2</th>\n",
       "      <th>ca_3</th>\n",
       "      <th>ca_4</th>\n",
       "      <th>slope_1</th>\n",
       "      <th>slope_2</th>\n",
       "      <th>exang_1</th>\n",
       "    </tr>\n",
       "  </thead>\n",
       "  <tbody>\n",
       "    <tr>\n",
       "      <th>0</th>\n",
       "      <td>63</td>\n",
       "      <td>145</td>\n",
       "      <td>233</td>\n",
       "      <td>150</td>\n",
       "      <td>2.3</td>\n",
       "      <td>1</td>\n",
       "      <td>1</td>\n",
       "      <td>1</td>\n",
       "      <td>0</td>\n",
       "      <td>0</td>\n",
       "      <td>...</td>\n",
       "      <td>1</td>\n",
       "      <td>0</td>\n",
       "      <td>0</td>\n",
       "      <td>0</td>\n",
       "      <td>0</td>\n",
       "      <td>0</td>\n",
       "      <td>0</td>\n",
       "      <td>0</td>\n",
       "      <td>0</td>\n",
       "      <td>0</td>\n",
       "    </tr>\n",
       "    <tr>\n",
       "      <th>1</th>\n",
       "      <td>37</td>\n",
       "      <td>130</td>\n",
       "      <td>250</td>\n",
       "      <td>187</td>\n",
       "      <td>3.5</td>\n",
       "      <td>2</td>\n",
       "      <td>1</td>\n",
       "      <td>1</td>\n",
       "      <td>0</td>\n",
       "      <td>1</td>\n",
       "      <td>...</td>\n",
       "      <td>0</td>\n",
       "      <td>1</td>\n",
       "      <td>0</td>\n",
       "      <td>0</td>\n",
       "      <td>0</td>\n",
       "      <td>0</td>\n",
       "      <td>0</td>\n",
       "      <td>0</td>\n",
       "      <td>0</td>\n",
       "      <td>0</td>\n",
       "    </tr>\n",
       "    <tr>\n",
       "      <th>2</th>\n",
       "      <td>41</td>\n",
       "      <td>130</td>\n",
       "      <td>204</td>\n",
       "      <td>172</td>\n",
       "      <td>1.4</td>\n",
       "      <td>2</td>\n",
       "      <td>1</td>\n",
       "      <td>0</td>\n",
       "      <td>1</td>\n",
       "      <td>0</td>\n",
       "      <td>...</td>\n",
       "      <td>0</td>\n",
       "      <td>0</td>\n",
       "      <td>0</td>\n",
       "      <td>0</td>\n",
       "      <td>0</td>\n",
       "      <td>0</td>\n",
       "      <td>0</td>\n",
       "      <td>0</td>\n",
       "      <td>1</td>\n",
       "      <td>0</td>\n",
       "    </tr>\n",
       "    <tr>\n",
       "      <th>3</th>\n",
       "      <td>56</td>\n",
       "      <td>120</td>\n",
       "      <td>236</td>\n",
       "      <td>178</td>\n",
       "      <td>0.8</td>\n",
       "      <td>2</td>\n",
       "      <td>1</td>\n",
       "      <td>1</td>\n",
       "      <td>1</td>\n",
       "      <td>0</td>\n",
       "      <td>...</td>\n",
       "      <td>0</td>\n",
       "      <td>1</td>\n",
       "      <td>0</td>\n",
       "      <td>0</td>\n",
       "      <td>0</td>\n",
       "      <td>0</td>\n",
       "      <td>0</td>\n",
       "      <td>0</td>\n",
       "      <td>1</td>\n",
       "      <td>0</td>\n",
       "    </tr>\n",
       "    <tr>\n",
       "      <th>4</th>\n",
       "      <td>57</td>\n",
       "      <td>120</td>\n",
       "      <td>354</td>\n",
       "      <td>163</td>\n",
       "      <td>0.6</td>\n",
       "      <td>2</td>\n",
       "      <td>1</td>\n",
       "      <td>0</td>\n",
       "      <td>0</td>\n",
       "      <td>0</td>\n",
       "      <td>...</td>\n",
       "      <td>0</td>\n",
       "      <td>1</td>\n",
       "      <td>0</td>\n",
       "      <td>0</td>\n",
       "      <td>0</td>\n",
       "      <td>0</td>\n",
       "      <td>0</td>\n",
       "      <td>0</td>\n",
       "      <td>1</td>\n",
       "      <td>1</td>\n",
       "    </tr>\n",
       "  </tbody>\n",
       "</table>\n",
       "<p>5 rows × 21 columns</p>\n",
       "</div>"
      ],
      "text/plain": [
       "   age  trestbps  chol  thalach  oldpeak  thal  target  sex_1  cp_1  cp_2  \\\n",
       "0   63       145   233      150      2.3     1       1      1     0     0   \n",
       "1   37       130   250      187      3.5     2       1      1     0     1   \n",
       "2   41       130   204      172      1.4     2       1      0     1     0   \n",
       "3   56       120   236      178      0.8     2       1      1     1     0   \n",
       "4   57       120   354      163      0.6     2       1      0     0     0   \n",
       "\n",
       "    ...     fbs_1  restecg_1  restecg_2  ca_1  ca_2  ca_3  ca_4  slope_1  \\\n",
       "0   ...         1          0          0     0     0     0     0        0   \n",
       "1   ...         0          1          0     0     0     0     0        0   \n",
       "2   ...         0          0          0     0     0     0     0        0   \n",
       "3   ...         0          1          0     0     0     0     0        0   \n",
       "4   ...         0          1          0     0     0     0     0        0   \n",
       "\n",
       "   slope_2  exang_1  \n",
       "0        0        0  \n",
       "1        0        0  \n",
       "2        1        0  \n",
       "3        1        0  \n",
       "4        1        1  \n",
       "\n",
       "[5 rows x 21 columns]"
      ]
     },
     "execution_count": 9,
     "metadata": {},
     "output_type": "execute_result"
    }
   ],
   "source": [
    "df = pd.get_dummies(df, \n",
    "               columns = ['sex', 'cp', 'fbs', 'restecg', 'ca', 'slope', 'exang'], \n",
    "               drop_first= True)\n",
    "print(df.shape)\n",
    "df.head()"
   ]
  },
  {
   "cell_type": "code",
   "execution_count": 10,
   "metadata": {},
   "outputs": [
    {
     "data": {
      "text/plain": [
       "1    0.544554\n",
       "0    0.455446\n",
       "Name: target, dtype: float64"
      ]
     },
     "execution_count": 10,
     "metadata": {},
     "output_type": "execute_result"
    }
   ],
   "source": [
    "df['target'].value_counts(normalize = True)"
   ]
  },
  {
   "cell_type": "code",
   "execution_count": 11,
   "metadata": {},
   "outputs": [
    {
     "name": "stdout",
     "output_type": "stream",
     "text": [
      ">> Train_test splited data set is:  \n",
      "\n",
      "X_train: (242, 20), \n",
      "X_test: (61, 20), \n",
      "y_train: (242,), \n",
      "y_test: (61,)\n"
     ]
    }
   ],
   "source": [
    "X = df.drop('target', axis = 1)\n",
    "y = df['target']\n",
    "X_train, X_test, y_train, y_test = train_test_split(X, y, random_state = 77, stratify = y, test_size = .2)\n",
    "print('>> Train_test splited data set is: ', \"\\n\\nX_train: {}, \\nX_test: {}, \\ny_train: {}, \\ny_test: {}\".format(X_train.shape, X_test.shape, y_train.shape, y_test.shape))"
   ]
  },
  {
   "cell_type": "code",
   "execution_count": 12,
   "metadata": {},
   "outputs": [
    {
     "name": "stdout",
     "output_type": "stream",
     "text": [
      "mean 0.5454545454545454 std 0.49896157727991414\n"
     ]
    }
   ],
   "source": [
    "## Let's check number of 1 and 0 in both datasets\n",
    "print('mean', y_train.mean(), 'std', y_train.std())\n"
   ]
  },
  {
   "cell_type": "code",
   "execution_count": 13,
   "metadata": {},
   "outputs": [
    {
     "data": {
      "text/plain": [
       "(242, 20)"
      ]
     },
     "execution_count": 13,
     "metadata": {},
     "output_type": "execute_result"
    }
   ],
   "source": [
    "# scaling \n",
    "from sklearn.preprocessing import StandardScaler\n",
    "scaler = StandardScaler() #.fit(X_train)\n",
    "scaler.fit(X_train)\n",
    "X_train_scaler = scaler.transform(X_train)\n",
    "X_train_scaler.shape\n",
    "## then used \n",
    "# scaler.transform(X_test)\n",
    "# X_train_sca = scaler.transform(X_train).shape"
   ]
  },
  {
   "cell_type": "code",
   "execution_count": 14,
   "metadata": {},
   "outputs": [
    {
     "name": "stdout",
     "output_type": "stream",
     "text": [
      "StandardScaler(copy=True, with_mean=True, with_std=True)\n",
      "[0.5 0.5]\n",
      "[[-1. -1.]\n",
      " [-1. -1.]\n",
      " [ 1.  1.]\n",
      " [ 1.  1.]]\n",
      "[[3. 3.]]\n"
     ]
    }
   ],
   "source": [
    "data = [[0, 0], [0, 0], [1, 1], [1, 1]]\n",
    "scaler_ex = StandardScaler()\n",
    "print(scaler_ex.fit(data))\n",
    "print(scaler_ex.mean_)\n",
    "print(scaler_ex.transform(data))\n",
    "print(scaler_ex.transform([[2,2]]))\n",
    "# print(scaler_ex.)"
   ]
  },
  {
   "cell_type": "markdown",
   "metadata": {},
   "source": [
    "[Check sklearn for documentation of Logistic Regression](https://scikit-learn.org/stable/modules/generated/sklearn.linear_model.LogisticRegression.html)\n",
    "\n",
    "\n",
    "[For solvers](https://scikit-learn.org/stable/modules/linear_model.html#logistic-regression)"
   ]
  },
  {
   "cell_type": "code",
   "execution_count": 15,
   "metadata": {},
   "outputs": [
    {
     "data": {
      "text/plain": [
       "LogisticRegression(C=1000000000.0, class_weight=None, dual=False,\n",
       "                   fit_intercept=True, intercept_scaling=1, l1_ratio=None,\n",
       "                   max_iter=10000, multi_class='warn', n_jobs=None,\n",
       "                   penalty='l2', random_state=None, solver='newton-cg',\n",
       "                   tol=0.0001, verbose=0, warm_start=False)"
      ]
     },
     "execution_count": 15,
     "metadata": {},
     "output_type": "execute_result"
    }
   ],
   "source": [
    "## Let's go with the vanilla case - no regularization\n",
    "lr = LogisticRegression(C = 1e9, solver = 'newton-cg', max_iter=10000)\n",
    "lr.fit(X_train, y_train)"
   ]
  },
  {
   "cell_type": "code",
   "execution_count": 16,
   "metadata": {
    "scrolled": true
   },
   "outputs": [
    {
     "name": "stdout",
     "output_type": "stream",
     "text": [
      "0.8801652892561983\n"
     ]
    }
   ],
   "source": [
    "## What is this score?\n",
    "print(lr.score(X_train, y_train))"
   ]
  },
  {
   "cell_type": "code",
   "execution_count": 17,
   "metadata": {},
   "outputs": [],
   "source": [
    "def cross_validation(n, shuffle=True, lr=None):\n",
    "    \"\"\"Cross validate logistic regression model n times.\"\"\"\n",
    "    cv = StratifiedKFold(n_splits=n, random_state=1019, shuffle=True)\n",
    "\n",
    "    # vanilla cross validation\n",
    "    if lr == 'vanilla':\n",
    "        lr_vanilla = LogisticRegression(C=1e9,\n",
    "                                        solver='newton-cg',\n",
    "                                        max_iter=1000)\n",
    "\n",
    "        cv_vanilla = cross_validate(estimator=lr_vanilla,\n",
    "                                    X=X_train, y=y_train,\n",
    "                                    cv=cv,\n",
    "                                    n_jobs=-1,\n",
    "                                    return_estimator=True,\n",
    "                                    return_train_score=True)\n",
    "\n",
    "        vanilla_result = np.concatenate(\n",
    "            (cv_vanilla['train_score'].reshape(-1, 1),\n",
    "             cv_vanilla['test_score'].reshape(-1, 1)), axis=1)\n",
    "\n",
    "        return vanilla_result\n",
    "\n",
    "    # l2 or ridge cross validation\n",
    "    if lr == 'l2':\n",
    "        l2_reg = LogisticRegression(C=1,\n",
    "                                    solver='newton-cg',\n",
    "                                    max_iter=1000)\n",
    "\n",
    "        cv_l2 = cross_validate(estimator=l2_reg, X=X_train, y=y_train,\n",
    "                               cv=cv,\n",
    "                               n_jobs=-1,\n",
    "                               return_estimator=True,\n",
    "                               return_train_score=True)\n",
    "\n",
    "        l2_result = np.concatenate(\n",
    "            (cv_l2['train_score'].reshape(-1, 1),\n",
    "             cv_l2['test_score'].reshape(-1, 1)), axis=1)\n",
    "\n",
    "        return l2_result\n",
    "\n",
    "    # l1 or lasso cross validation\n",
    "    if lr == 'l1':\n",
    "        l1_reg = LogisticRegression(C=1,\n",
    "                                    solver='saga',\n",
    "                                    penalty='l1',\n",
    "                                    max_iter=1000)\n",
    "\n",
    "        cv_l1 = cross_validate(estimator=l1_reg, X=X_train, y=y_train,\n",
    "                               cv=cv,\n",
    "                               n_jobs=-1,\n",
    "                               return_estimator=True,\n",
    "                               return_train_score=True)\n",
    "\n",
    "        l1_result = np.concatenate(\n",
    "            (cv_l1['train_score'].reshape(-1, 1),\n",
    "             cv_l1['test_score'].reshape(-1, 1)), axis=1)\n",
    "\n",
    "        return l1_result\n"
   ]
  },
  {
   "cell_type": "code",
   "execution_count": 18,
   "metadata": {},
   "outputs": [
    {
     "data": {
      "text/plain": [
       "array([[0.85492228, 0.89795918],\n",
       "       [0.88082902, 0.79591837],\n",
       "       [0.89175258, 0.83333333],\n",
       "       [0.91752577, 0.83333333],\n",
       "       [0.89175258, 0.83333333]])"
      ]
     },
     "execution_count": 18,
     "metadata": {},
     "output_type": "execute_result"
    }
   ],
   "source": [
    "cross_validation(n=5, lr='vanilla')"
   ]
  },
  {
   "cell_type": "code",
   "execution_count": 19,
   "metadata": {},
   "outputs": [],
   "source": [
    "## Let's try one more time but this time with cross-validation\n",
    "\n",
    "cv = StratifiedKFold(n_splits= 5, random_state=1019, shuffle=True)\n",
    "\n",
    "lr_vanilla = LogisticRegression(C = 1e9, \n",
    "                                solver = 'newton-cg',\n",
    "                                max_iter=1000)\n",
    "\n",
    "l2_reg = LogisticRegression(C = 1, \n",
    "                            solver = 'newton-cg',\n",
    "                            max_iter=1000)\n",
    "\n",
    "l1_reg = LogisticRegression(C = 1, \n",
    "                           solver= 'saga', \n",
    "                           penalty = 'l1',\n",
    "                            max_iter=1000)\n",
    "\n",
    "cv_vanilla = cross_validate(estimator=lr_vanilla, \n",
    "                            X = X_train, y = y_train,\n",
    "                            cv = cv, \n",
    "                            n_jobs=-1, \n",
    "                            return_estimator= True, \n",
    "                            return_train_score=True)\n",
    "\n",
    "cv_l2 = cross_validate(estimator=l2_reg, X = X_train, y = y_train,\n",
    "                    cv = cv, \n",
    "                    n_jobs=-1, \n",
    "                    return_estimator= True, \n",
    "                    return_train_score=True)\n",
    "\n",
    "cv_l1 = cross_validate(estimator=l1_reg, X = X_train, y = y_train,\n",
    "                    cv = cv, \n",
    "                    n_jobs=-1, \n",
    "                    return_estimator= True, \n",
    "                    return_train_score=True)"
   ]
  },
  {
   "cell_type": "code",
   "execution_count": 20,
   "metadata": {},
   "outputs": [
    {
     "data": {
      "text/plain": [
       "{'fit_time': array([0.20399094, 0.18571424, 0.07612395, 0.08896589, 0.07257605]),\n",
       " 'score_time': array([0.00111914, 0.00127482, 0.00190306, 0.00206804, 0.00107217]),\n",
       " 'estimator': (LogisticRegression(C=1000000000.0, class_weight=None, dual=False,\n",
       "                     fit_intercept=True, intercept_scaling=1, l1_ratio=None,\n",
       "                     max_iter=1000, multi_class='warn', n_jobs=None, penalty='l2',\n",
       "                     random_state=None, solver='newton-cg', tol=0.0001, verbose=0,\n",
       "                     warm_start=False),\n",
       "  LogisticRegression(C=1000000000.0, class_weight=None, dual=False,\n",
       "                     fit_intercept=True, intercept_scaling=1, l1_ratio=None,\n",
       "                     max_iter=1000, multi_class='warn', n_jobs=None, penalty='l2',\n",
       "                     random_state=None, solver='newton-cg', tol=0.0001, verbose=0,\n",
       "                     warm_start=False),\n",
       "  LogisticRegression(C=1000000000.0, class_weight=None, dual=False,\n",
       "                     fit_intercept=True, intercept_scaling=1, l1_ratio=None,\n",
       "                     max_iter=1000, multi_class='warn', n_jobs=None, penalty='l2',\n",
       "                     random_state=None, solver='newton-cg', tol=0.0001, verbose=0,\n",
       "                     warm_start=False),\n",
       "  LogisticRegression(C=1000000000.0, class_weight=None, dual=False,\n",
       "                     fit_intercept=True, intercept_scaling=1, l1_ratio=None,\n",
       "                     max_iter=1000, multi_class='warn', n_jobs=None, penalty='l2',\n",
       "                     random_state=None, solver='newton-cg', tol=0.0001, verbose=0,\n",
       "                     warm_start=False),\n",
       "  LogisticRegression(C=1000000000.0, class_weight=None, dual=False,\n",
       "                     fit_intercept=True, intercept_scaling=1, l1_ratio=None,\n",
       "                     max_iter=1000, multi_class='warn', n_jobs=None, penalty='l2',\n",
       "                     random_state=None, solver='newton-cg', tol=0.0001, verbose=0,\n",
       "                     warm_start=False)),\n",
       " 'test_score': array([0.89795918, 0.79591837, 0.83333333, 0.83333333, 0.83333333]),\n",
       " 'train_score': array([0.85492228, 0.88082902, 0.89175258, 0.91752577, 0.89175258])}"
      ]
     },
     "execution_count": 20,
     "metadata": {},
     "output_type": "execute_result"
    }
   ],
   "source": [
    "cv_vanilla"
   ]
  },
  {
   "cell_type": "code",
   "execution_count": 21,
   "metadata": {},
   "outputs": [],
   "source": [
    "vanilla_result = np.concatenate((cv_vanilla['train_score'].reshape(-1,1), \n",
    "                cv_vanilla['test_score'].reshape(-1,1)), axis=1)\n",
    "\n",
    "l2_result = np.concatenate((cv_l2['train_score'].reshape(-1,1), \n",
    "                cv_l2['test_score'].reshape(-1,1)), axis=1)\n",
    "\n",
    "l1_result = np.concatenate((cv_l1['train_score'].reshape(-1,1), \n",
    "                cv_l1['test_score'].reshape(-1,1)), axis=1)"
   ]
  },
  {
   "cell_type": "code",
   "execution_count": 22,
   "metadata": {},
   "outputs": [
    {
     "data": {
      "text/plain": [
       "array([[0.85492228, 0.89795918],\n",
       "       [0.88082902, 0.79591837],\n",
       "       [0.89175258, 0.83333333],\n",
       "       [0.91752577, 0.83333333],\n",
       "       [0.89175258, 0.83333333]])"
      ]
     },
     "execution_count": 22,
     "metadata": {},
     "output_type": "execute_result"
    }
   ],
   "source": [
    "vanilla_result"
   ]
  },
  {
   "cell_type": "code",
   "execution_count": 23,
   "metadata": {},
   "outputs": [
    {
     "name": "stdout",
     "output_type": "stream",
     "text": [
      "mean 0.8346088435374149 and std 0.02968649338176171\n"
     ]
    },
    {
     "data": {
      "text/plain": [
       "array([0.87755102, 0.81632653, 0.79166667, 0.83333333, 0.85416667])"
      ]
     },
     "execution_count": 23,
     "metadata": {},
     "output_type": "execute_result"
    }
   ],
   "source": [
    "## this saves not to write the above code\n",
    "from sklearn.model_selection import cross_val_score\n",
    "from sklearn import svm\n",
    "clf = svm.SVC(kernel='linear', C=1)\n",
    "scores = cross_val_score(estimator=clf, X=X_train, y=y_train, cv=5, n_jobs=-1)\n",
    "#                         , return_estimator=True, return_train_score=True)\n",
    "print('mean', scores.mean(), 'and std', scores.std())\n",
    "scores\n",
    "# print(scores.mean())\n",
    "# array([0.87755102, 0.81632653, 0.79166667, 0.83333333, 0.85416667])\n",
    "# array([0.96..., 1.  ..., 0.96..., 0.96..., 1.        ])"
   ]
  },
  {
   "cell_type": "code",
   "execution_count": 24,
   "metadata": {},
   "outputs": [
    {
     "data": {
      "text/plain": [
       "array([[0.87564767, 0.93877551],\n",
       "       [0.88082902, 0.83673469],\n",
       "       [0.87628866, 0.85416667],\n",
       "       [0.90206186, 0.77083333],\n",
       "       [0.88659794, 0.875     ]])"
      ]
     },
     "execution_count": 24,
     "metadata": {},
     "output_type": "execute_result"
    }
   ],
   "source": [
    "l2_result"
   ]
  },
  {
   "cell_type": "code",
   "execution_count": 25,
   "metadata": {},
   "outputs": [
    {
     "data": {
      "text/plain": [
       "array([[0.70466321, 0.79591837],\n",
       "       [0.71502591, 0.67346939],\n",
       "       [0.71649485, 0.70833333],\n",
       "       [0.71134021, 0.70833333],\n",
       "       [0.72164948, 0.72916667]])"
      ]
     },
     "execution_count": 25,
     "metadata": {},
     "output_type": "execute_result"
    }
   ],
   "source": [
    "l1_result"
   ]
  },
  {
   "cell_type": "code",
   "execution_count": 26,
   "metadata": {},
   "outputs": [
    {
     "name": "stdout",
     "output_type": "stream",
     "text": [
      "[0.88735644 0.83877551] [0.71383473 0.72304422] [0.88428503 0.85510204]\n"
     ]
    }
   ],
   "source": [
    "# calculate the mean of the train scores\n",
    "print(vanilla_result.mean(axis=0), l1_result.mean(axis=0), l2_result.mean(axis=0))"
   ]
  },
  {
   "cell_type": "code",
   "execution_count": 27,
   "metadata": {},
   "outputs": [
    {
     "name": "stdout",
     "output_type": "stream",
     "text": [
      "[0.02021595 0.03294934] [0.00565517 0.04059214] [0.00971447 0.05447316]\n"
     ]
    }
   ],
   "source": [
    "# calculate the mean of the train scores\n",
    "print(vanilla_result.std(axis=0), l1_result.std(axis=0), l2_result.std(axis=0))"
   ]
  },
  {
   "cell_type": "code",
   "execution_count": 28,
   "metadata": {},
   "outputs": [
    {
     "data": {
      "text/plain": [
       "0.8524590163934426"
      ]
     },
     "execution_count": 28,
     "metadata": {},
     "output_type": "execute_result"
    }
   ],
   "source": [
    "lr = cv_l2['estimator'][0]\n",
    "lr.score(X_test, y_test)"
   ]
  },
  {
   "cell_type": "markdown",
   "metadata": {},
   "source": [
    "### The Default Measure (in most prebuilt models) - Accuracy\n",
    "\n",
    "$$ \\frac{(TP + TN)}{(TP + FP + TN + FN)} $$"
   ]
  },
  {
   "cell_type": "markdown",
   "metadata": {},
   "source": [
    "#### We got an accuracy score of .82, but what does that tell us? Just that 82% of the time we are correct, nothing about how we are correct or how we are wrong"
   ]
  },
  {
   "cell_type": "code",
   "execution_count": 29,
   "metadata": {},
   "outputs": [],
   "source": [
    "predictions = lr.predict(X_test)\n",
    "actual = y_test"
   ]
  },
  {
   "cell_type": "code",
   "execution_count": 30,
   "metadata": {},
   "outputs": [
    {
     "data": {
      "text/plain": [
       "array([[23,  5],\n",
       "       [ 4, 29]])"
      ]
     },
     "execution_count": 30,
     "metadata": {},
     "output_type": "execute_result"
    }
   ],
   "source": [
    "confusion_matrix(actual, predictions)"
   ]
  },
  {
   "cell_type": "markdown",
   "metadata": {},
   "source": [
    "#### My eyes!!!"
   ]
  },
  {
   "cell_type": "code",
   "execution_count": 62,
   "metadata": {},
   "outputs": [
    {
     "data": {
      "text/html": [
       "<div>\n",
       "<style scoped>\n",
       "    .dataframe tbody tr th:only-of-type {\n",
       "        vertical-align: middle;\n",
       "    }\n",
       "\n",
       "    .dataframe tbody tr th {\n",
       "        vertical-align: top;\n",
       "    }\n",
       "\n",
       "    .dataframe thead th {\n",
       "        text-align: right;\n",
       "    }\n",
       "</style>\n",
       "<table border=\"1\" class=\"dataframe\">\n",
       "  <thead>\n",
       "    <tr style=\"text-align: right;\">\n",
       "      <th></th>\n",
       "      <th>predicted 0</th>\n",
       "      <th>predicted 1</th>\n",
       "    </tr>\n",
       "  </thead>\n",
       "  <tbody>\n",
       "    <tr>\n",
       "      <th>actual 0</th>\n",
       "      <td>23</td>\n",
       "      <td>5</td>\n",
       "    </tr>\n",
       "    <tr>\n",
       "      <th>actual 1</th>\n",
       "      <td>4</td>\n",
       "      <td>29</td>\n",
       "    </tr>\n",
       "  </tbody>\n",
       "</table>\n",
       "</div>"
      ],
      "text/plain": [
       "          predicted 0  predicted 1\n",
       "actual 0           23            5\n",
       "actual 1            4           29"
      ]
     },
     "execution_count": 62,
     "metadata": {},
     "output_type": "execute_result"
    }
   ],
   "source": [
    "pd.DataFrame(confusion_matrix(actual, predictions), \n",
    "             columns = ['predicted 0', 'predicted 1'], \n",
    "             index = ['actual 0', 'actual 1'])"
   ]
  },
  {
   "cell_type": "markdown",
   "metadata": {},
   "source": [
    "#### We got more false negatives than false positives. What would we likely prefer in the case of this dataset?"
   ]
  },
  {
   "cell_type": "markdown",
   "metadata": {},
   "source": [
    "## Other metrics\n",
    "\n",
    "### Misclassification Rate\n",
    "#### $$ 1 - \\text{accuracy} $$ \n",
    "\n",
    "### $$ {OR} $$\n",
    "\n",
    "#### $$ \\frac{FP + FN}{TP + FP + TN + FN} $$"
   ]
  },
  {
   "cell_type": "markdown",
   "metadata": {},
   "source": [
    "### Sensitivity (AKA True Positive Rate, Recall, and Probability of Detection)\n",
    "\n",
    "$$ \\frac{TP}{TP + FN} $$"
   ]
  },
  {
   "cell_type": "markdown",
   "metadata": {},
   "source": [
    "### Specificity (AKA True Negative Rate)\n",
    "\n",
    "$$ \\frac{TN}{TN + FP} $$"
   ]
  },
  {
   "cell_type": "markdown",
   "metadata": {},
   "source": [
    "#### Which of these metrics would we want to optimize for in a heart disease detection algorithm?\n",
    "\n",
    "False Positives and False Negatives each have some cost associated with them."
   ]
  },
  {
   "cell_type": "markdown",
   "metadata": {},
   "source": [
    "### Let's figure out how to optimize!"
   ]
  },
  {
   "cell_type": "markdown",
   "metadata": {},
   "source": [
    "#### Remember that Logistic Regression gives probability predictions for each class, in addition to the final classification. By default, threshold for the prediction is set to 0.5, but we can adjust that threshold."
   ]
  },
  {
   "cell_type": "code",
   "execution_count": 63,
   "metadata": {},
   "outputs": [
    {
     "name": "stdout",
     "output_type": "stream",
     "text": [
      "[0, 1, 1, 1, 1, 0, 1, 0, 0, 1, 1, 0, 0, 1, 0, 0, 0, 1, 1, 1, 1, 1, 0, 1, 1, 1, 1, 1, 1, 1, 1, 0, 1, 1, 0, 0, 1, 0, 0, 1, 1, 0, 0, 1, 1, 1, 0, 1, 1, 1, 0, 1, 0, 0, 1, 0, 0, 1, 1, 1, 1]\n",
      "61\n"
     ]
    }
   ],
   "source": [
    "predicts = []\n",
    "for item in lr.predict_proba(X_test):\n",
    "    if item[0] <= .70:\n",
    "        predicts.append(1)\n",
    "    else:\n",
    "        predicts.append(0)\n",
    "print(predicts)\n",
    "print(len(predicts))"
   ]
  },
  {
   "cell_type": "code",
   "execution_count": 64,
   "metadata": {},
   "outputs": [
    {
     "data": {
      "text/html": [
       "<div>\n",
       "<style scoped>\n",
       "    .dataframe tbody tr th:only-of-type {\n",
       "        vertical-align: middle;\n",
       "    }\n",
       "\n",
       "    .dataframe tbody tr th {\n",
       "        vertical-align: top;\n",
       "    }\n",
       "\n",
       "    .dataframe thead th {\n",
       "        text-align: right;\n",
       "    }\n",
       "</style>\n",
       "<table border=\"1\" class=\"dataframe\">\n",
       "  <thead>\n",
       "    <tr style=\"text-align: right;\">\n",
       "      <th></th>\n",
       "      <th>predicted 0</th>\n",
       "      <th>predicted 1</th>\n",
       "    </tr>\n",
       "  </thead>\n",
       "  <tbody>\n",
       "    <tr>\n",
       "      <th>actual 0</th>\n",
       "      <td>20</td>\n",
       "      <td>8</td>\n",
       "    </tr>\n",
       "    <tr>\n",
       "      <th>actual 1</th>\n",
       "      <td>3</td>\n",
       "      <td>30</td>\n",
       "    </tr>\n",
       "  </tbody>\n",
       "</table>\n",
       "</div>"
      ],
      "text/plain": [
       "          predicted 0  predicted 1\n",
       "actual 0           20            8\n",
       "actual 1            3           30"
      ]
     },
     "execution_count": 64,
     "metadata": {},
     "output_type": "execute_result"
    }
   ],
   "source": [
    "conf_matrix = pd.DataFrame(confusion_matrix(y_test, predicts),\n",
    "                           index = ['actual 0', 'actual 1'], \n",
    "                           columns = ['predicted 0', 'predicted 1'])\n",
    "conf_matrix"
   ]
  },
  {
   "cell_type": "code",
   "execution_count": 65,
   "metadata": {},
   "outputs": [
    {
     "data": {
      "text/plain": [
       "0.819672131147541"
      ]
     },
     "execution_count": 65,
     "metadata": {},
     "output_type": "execute_result"
    }
   ],
   "source": [
    "## accuracy\n",
    "(conf_matrix['predicted 0'][0] + conf_matrix['predicted 1'][1]) / len(predicts)"
   ]
  },
  {
   "cell_type": "markdown",
   "metadata": {},
   "source": [
    "### The AUC / ROC curve (Area Under Curve of the Receiver Operating Characteristic)"
   ]
  },
  {
   "cell_type": "markdown",
   "metadata": {},
   "source": [
    "![a](images/pop-curve.png)"
   ]
  },
  {
   "cell_type": "code",
   "execution_count": 66,
   "metadata": {},
   "outputs": [],
   "source": [
    "import matplotlib.pyplot as plt"
   ]
  },
  {
   "cell_type": "code",
   "execution_count": 67,
   "metadata": {},
   "outputs": [],
   "source": [
    "def conf_matrix(lr=lr, X_train=None, y_train=None):\n",
    "    fpr_list = []\n",
    "    tpr_list = []\n",
    "    for fpr in np.linspace(0, 1, 100):\n",
    "        # predict based on predict_proba threshold \n",
    "        predicts = []\n",
    "        for item in lr.predict_proba(X_train):\n",
    "            if item[0] <= fpr:\n",
    "                predicts.append(1)\n",
    "            else: \n",
    "                predicts.append(0)\n",
    "                \n",
    "        conf_matrix = pd.DataFrame(confusion_matrix(y_train, predicts),\n",
    "                                   index= ['actual 0', 'actual 1'],\n",
    "                                  columns= ['predicted 0', 'predicted 1'])\n",
    "#         print(conf_matrix)\n",
    "        # assign tp, tn, fp, fn\n",
    "        true_positives = conf_matrix['predicted 1'][1]\n",
    "        true_negatives = conf_matrix['predicted 0'][0]\n",
    "        false_positives = conf_matrix['predicted 1'][0]\n",
    "        false_negatives = conf_matrix['predicted 0'][1]\n",
    "        \n",
    "        # Calculate Sensitivity and Specificity\n",
    "        sensitivity = true_positives / (true_positives + false_negatives)\n",
    "        specificity = true_negatives / (true_negatives + false_positives)\n",
    "    \n",
    "        # Append to lists to graph\n",
    "        fpr_list.append(1 - specificity)\n",
    "        tpr_list.append(sensitivity)\n",
    "    \n",
    "        return conf_matrix, fpr_list, tpr_list\n",
    "\n",
    "# def plot_roc(fpr_lst, tpr_lst):\n",
    "     \n",
    "# #     Plot logesitc regression -- Seaborns Beautiful Styling\n",
    "#     sns.set_style(\"darkgrid\", {\"axes.facecolor\": \".9\"})\n",
    "#     plt.figure(figsize=(10,8))\n",
    "#     plt.plot(fpr_lst, tpr_lst, color='darkorange', lw=2, font=50, label='ROC curve')\n",
    "#     plt.plot([0, 1], [0, 1], color='navy', lw=2, linestyle='--')\n",
    "#     plt.xlim([-0.01, 1])\n",
    "#     plt.ylim([-0.01, 1])\n",
    "# # #     plt.yticks([i/20.0 for i in range(21)])\n",
    "# # #     plt.xticks([i/20.0 for i in range(21)])\n",
    "#     plt.xlabel('False Positive Rate (1 - Specificity)', fontsize=15)\n",
    "#     plt.ylabel('True Positive Rate (Sensitibity)', fontsize=15)\n",
    "#     plt.title('Receiver operating characteristic (ROC) Curve', fontsize=20)\n",
    "#     plt.legend(loc=\"lower right\")\n",
    "#     print('AUC: {}'.format(auc(fpr_lst, tpr_lst)))\n",
    "#     plt.show()\n",
    "    \n",
    "#     plt.figure(figsize = (10, 8))\n",
    "#     plt.title('Receiver operating characteristic (ROC) Curve', fontsize = 20)\n",
    "#     plt.xlabel('False Positive Rate (1 - Specificity)', fontsize = 15)\n",
    "#     plt.ylabel('True Positive Rate (Sensitibity)', fontsize = 15)\n",
    "#     plt.xlim(-0.01, 1)\n",
    "#     plt.ylim(-0.01, 1)\n",
    "#     plt.plot(fpr_list, tpr_list, color='darkorange', lw=2, label='ROC curve');\n",
    "#     plt.plot([0, 1], [0, 1], lw=2, linestyle='--');\n",
    "#     plt.show()\n",
    "#     return conf_matrix, fpr_list, tpr_list\n",
    "            "
   ]
  },
  {
   "cell_type": "code",
   "execution_count": 68,
   "metadata": {},
   "outputs": [
    {
     "data": {
      "text/html": [
       "<div>\n",
       "<style scoped>\n",
       "    .dataframe tbody tr th:only-of-type {\n",
       "        vertical-align: middle;\n",
       "    }\n",
       "\n",
       "    .dataframe tbody tr th {\n",
       "        vertical-align: top;\n",
       "    }\n",
       "\n",
       "    .dataframe thead th {\n",
       "        text-align: right;\n",
       "    }\n",
       "</style>\n",
       "<table border=\"1\" class=\"dataframe\">\n",
       "  <thead>\n",
       "    <tr style=\"text-align: right;\">\n",
       "      <th></th>\n",
       "      <th>predicted 0</th>\n",
       "      <th>predicted 1</th>\n",
       "    </tr>\n",
       "  </thead>\n",
       "  <tbody>\n",
       "    <tr>\n",
       "      <th>actual 0</th>\n",
       "      <td>28</td>\n",
       "      <td>0</td>\n",
       "    </tr>\n",
       "    <tr>\n",
       "      <th>actual 1</th>\n",
       "      <td>33</td>\n",
       "      <td>0</td>\n",
       "    </tr>\n",
       "  </tbody>\n",
       "</table>\n",
       "</div>"
      ],
      "text/plain": [
       "          predicted 0  predicted 1\n",
       "actual 0           28            0\n",
       "actual 1           33            0"
      ]
     },
     "execution_count": 68,
     "metadata": {},
     "output_type": "execute_result"
    }
   ],
   "source": [
    "co_matrix, fpr_list, tpr_list = conf_matrix(lr=lr, X_train=X_test, y_train=y_test)\n",
    "# plot_roc(fpr_lst=fpr_list, tpr_lst=tpr_list)\n",
    "co_matrix"
   ]
  },
  {
   "cell_type": "code",
   "execution_count": 69,
   "metadata": {},
   "outputs": [
    {
     "data": {
      "image/png": "[encoded data removed]",
      "text/plain": [
       "<Figure size 720x576 with 1 Axes>"
      ]
     },
     "metadata": {},
     "output_type": "display_data"
    }
   ],
   "source": [
    "x_list = []\n",
    "y_list = []\n",
    "\n",
    "for x in np.linspace(0, 1, 100):\n",
    "    \n",
    "    # Same predictions based on predict_proba thresholds\n",
    "    predicts = []\n",
    "    \n",
    "    for item in lr.predict_proba(X_test):\n",
    "        if item[0] <= x:\n",
    "            predicts.append(1)\n",
    "        else:\n",
    "            predicts.append(0)\n",
    "\n",
    "    conf_matrix = pd.DataFrame(confusion_matrix(y_test, predicts), index = ['actual 0', 'actual 1'], \n",
    "                     columns = ['predicted 0', 'predicted 1'])\n",
    "    \n",
    "    \n",
    "    # Assign TP, TN, FP, FN\n",
    "    true_positives = conf_matrix['predicted 1'][1]\n",
    "    true_negatives = conf_matrix['predicted 0'][0]\n",
    "    false_positives = conf_matrix['predicted 1'][0]\n",
    "    false_negatives = conf_matrix['predicted 0'][1]\n",
    "\n",
    "    \n",
    "    # Calculate Sensitivity and Specificity\n",
    "    sensitivity = true_positives / (true_positives + false_negatives)\n",
    "\n",
    "    specificity = true_negatives / (true_negatives + false_positives)\n",
    "    \n",
    "    \n",
    "    # Append to lists to graph\n",
    "    x_list.append(1 - specificity)\n",
    "\n",
    "    y_list.append(sensitivity)\n",
    "\n",
    "    \n",
    "# Plot ROC curve\n",
    "\n",
    "plt.figure(figsize = (10, 8))\n",
    "plt.title('ROC Curve', fontsize = 20)\n",
    "plt.xlabel('FP_rate', fontsize = 15)\n",
    "plt.ylabel('TP_rate', fontsize = 15)\n",
    "plt.xlim(-0.01, 1)\n",
    "plt.ylim(-0.01, 1)\n",
    "plt.plot(x_list, y_list);\n",
    "plt.plot([0, 1], [0, 1]);\n",
    "\n",
    "# x = 1 - specificity\n",
    "# y = sensitivity"
   ]
  },
  {
   "cell_type": "code",
   "execution_count": 70,
   "metadata": {},
   "outputs": [],
   "source": [
    "from sklearn.metrics import auc"
   ]
  },
  {
   "cell_type": "code",
   "execution_count": 71,
   "metadata": {},
   "outputs": [
    {
     "data": {
      "text/plain": [
       "0.9036796536796536"
      ]
     },
     "execution_count": 71,
     "metadata": {},
     "output_type": "execute_result"
    }
   ],
   "source": [
    "auc(x_list, y_list)\n",
    "# AUC: 0.9101731601731602"
   ]
  },
  {
   "cell_type": "markdown",
   "metadata": {},
   "source": [
    "### Let's add associated costs to our False Negatives and False Positives to our loop and minimize the cost\n",
    "This is the naive way to optimize, but works well - you could also create a closed form optimization function"
   ]
  },
  {
   "cell_type": "code",
   "execution_count": 72,
   "metadata": {},
   "outputs": [],
   "source": [
    "def my_eyes_cost_much(num_thres = 100, p_fp = 3, p_tn = 0.5, p_tp = 1, p_fn = 2):\n",
    "\n",
    "    _thres = []; tpr = [] ; fpr = [] ; cost = []\n",
    "\n",
    "    prediction = lr.predict_proba(X_test)\n",
    "\n",
    "    ## Different code for same objective to calculate metrics at thresholds\n",
    "    \n",
    "    for thres in np.linspace(0.01, 1, num_thres):\n",
    "        \n",
    "        _thres.append(thres)\n",
    "        predicts = np.zeros((prediction.shape[0], 1)) \n",
    "        predicts[np.where(prediction[:, 1] >= thres)] = 1\n",
    "\n",
    "        conf_matrix = confusion_matrix(y_test, predicts)\n",
    "\n",
    "        tp = conf_matrix[1, 1]\n",
    "        tn = conf_matrix[0, 0]\n",
    "        fp = conf_matrix[0, 1]\n",
    "        fn = conf_matrix[1, 0]\n",
    "\n",
    "        sensitivity = tp / (tp + fn)\n",
    "        tnr = specificity = tn / (tn + fp)\n",
    "        fnr = 1 - sensitivity\n",
    "\n",
    "        tpr.append(sensitivity)\n",
    "    \n",
    "        fpr.append(1 - specificity)\n",
    "        \n",
    "        # add a cost function (this involves domain knowledge)\n",
    "        \n",
    "        current_cost = (p_fp * fp) + (p_tn * tn) + (p_tp * tp) + (p_fn * fn)\n",
    "            \n",
    "        cost.append(current_cost)  \n",
    "\n",
    "    return fpr, tpr, cost, _thres"
   ]
  },
  {
   "cell_type": "code",
   "execution_count": 73,
   "metadata": {},
   "outputs": [],
   "source": [
    "fpr, tpr, cost, thres = my_eyes_cost_much(num_thres = 100, p_fp = 3, p_tn = 0.5, p_tp = 1, p_fn = 2)"
   ]
  },
  {
   "cell_type": "code",
   "execution_count": 74,
   "metadata": {},
   "outputs": [
    {
     "name": "stdout",
     "output_type": "stream",
     "text": [
      "(0.0, 0.5757575757575758, 0.78)\n"
     ]
    }
   ],
   "source": [
    "cost_idx = np.argmin(cost) # returns the minimum\n",
    "min_cost_threshold = fpr[cost_idx], tpr[cost_idx], thres[cost_idx]\n",
    "\n",
    "print(min_cost_threshold)"
   ]
  },
  {
   "cell_type": "code",
   "execution_count": 75,
   "metadata": {},
   "outputs": [
    {
     "ename": "TypeError",
     "evalue": "argmin() missing 1 required positional argument: 'a'",
     "output_type": "error",
     "traceback": [
      "\u001b[0;31m---------------------------------------------------------------------------\u001b[0m",
      "\u001b[0;31mTypeError\u001b[0m                                 Traceback (most recent call last)",
      "\u001b[0;32m<ipython-input-75-4565d3204e10>\u001b[0m in \u001b[0;36m<module>\u001b[0;34m()\u001b[0m\n\u001b[0;32m----> 1\u001b[0;31m \u001b[0mnp\u001b[0m\u001b[0;34m.\u001b[0m\u001b[0margmin\u001b[0m\u001b[0;34m(\u001b[0m\u001b[0;34m)\u001b[0m\u001b[0;34m\u001b[0m\u001b[0m\n\u001b[0m",
      "\u001b[0;31mTypeError\u001b[0m: argmin() missing 1 required positional argument: 'a'"
     ]
    }
   ],
   "source": [
    "np.argmin()"
   ]
  },
  {
   "cell_type": "code",
   "execution_count": 76,
   "metadata": {},
   "outputs": [
    {
     "data": {
      "text/plain": [
       "Text(0.06, 0.5457575757575758, 'Threshold:0.78')"
      ]
     },
     "execution_count": 76,
     "metadata": {},
     "output_type": "execute_result"
    },
    {
     "data": {
      "image/png": "[encoded data removed]",
      "text/plain": [
       "<Figure size 720x576 with 1 Axes>"
      ]
     },
     "metadata": {},
     "output_type": "display_data"
    }
   ],
   "source": [
    "ax = plt.figure(figsize = (10, 8))\n",
    "plt.title('ROC Curve', fontsize = 20)\n",
    "plt.xlabel('FP_rate (1 - specificity)', fontsize = 15)\n",
    "plt.ylabel('TP_rate (sensitivity)', fontsize = 15)\n",
    "plt.xlim(-.01, 1.01)\n",
    "plt.ylim(-.01, 1.01)\n",
    "plt.plot(fpr, tpr);\n",
    "plt.plot([0, 1], [0, 1]);\n",
    "plt.scatter(min_cost_threshold[0], min_cost_threshold[1], marker ='o', color = 'red', s=250)\n",
    "ax.text(min_cost_threshold[0] + 0.06, min_cost_threshold[1] - 0.03, 'Threshold:'+ str(round(min_cost_threshold[2], 2)))\n"
   ]
  },
  {
   "cell_type": "markdown",
   "metadata": {},
   "source": [
    "### Visualizing Threshold vs. Population Distribution"
   ]
  },
  {
   "cell_type": "code",
   "execution_count": null,
   "metadata": {},
   "outputs": [],
   "source": [
    "import seaborn as sns"
   ]
  },
  {
   "cell_type": "code",
   "execution_count": null,
   "metadata": {},
   "outputs": [],
   "source": [
    "lr.predict_proba(X_test)[:5]"
   ]
  },
  {
   "cell_type": "code",
   "execution_count": null,
   "metadata": {},
   "outputs": [],
   "source": [
    "lr.predict(X_test)[:5]"
   ]
  },
  {
   "cell_type": "code",
   "execution_count": null,
   "metadata": {},
   "outputs": [],
   "source": [
    "no_cancer_dist = []\n",
    "cancer_dist = []\n",
    "\n",
    "for item in lr.predict_proba(X_test):\n",
    "    if item[0] <= .49:\n",
    "        cancer_dist.append(item[0])\n",
    "    else:\n",
    "        no_cancer_dist.append(item[0])\n",
    "        \n",
    "plt.figure(figsize = (10, 6))\n",
    "plt.title('Distributions of Patients with and without Cancer')\n",
    "plt.xlabel('Threshold', fontsize = 14)\n",
    "\n",
    "sns.distplot(no_cancer_dist, bins = 15, color = 'red')\n",
    "sns.distplot(cancer_dist, bins = 15, color = 'blue')\n",
    "plt.legend(['no cancer dist', 'cancer dist']);"
   ]
  },
  {
   "cell_type": "markdown",
   "metadata": {},
   "source": [
    "### ROC curve vs Population Separation\n",
    "![a](images/pop-curve.png)"
   ]
  },
  {
   "cell_type": "markdown",
   "metadata": {},
   "source": [
    "![d](images/varying_dist_roc.png)"
   ]
  },
  {
   "cell_type": "markdown",
   "metadata": {},
   "source": []
  },
  {
   "cell_type": "markdown",
   "metadata": {},
   "source": [
    "### Precision (Positive Predictive Value)"
   ]
  },
  {
   "cell_type": "markdown",
   "metadata": {},
   "source": [
    "### $$ \\frac{TP}{TP + FP}  $$"
   ]
  },
  {
   "cell_type": "markdown",
   "metadata": {},
   "source": [
    "### F1 Score\n",
    "\n",
    "### $$ 2 * \\frac{\\text{Precision * Recall}}{\\text{Precision + Recall}} $$"
   ]
  }
 ],
 "metadata": {
  "kernelspec": {
   "display_name": "learn-env",
   "language": "python",
   "name": "learn-env"
  },
  "language_info": {
   "codemirror_mode": {
    "name": "ipython",
    "version": 3
   },
   "file_extension": ".py",
   "mimetype": "text/x-python",
   "name": "python",
   "nbconvert_exporter": "python",
   "pygments_lexer": "ipython3",
   "version": "3.6.6"
  },
  "toc": {
   "base_numbering": 1,
   "nav_menu": {},
   "number_sections": true,
   "sideBar": true,
   "skip_h1_title": false,
   "title_cell": "Table of Contents",
   "title_sidebar": "Contents",
   "toc_cell": false,
   "toc_position": {},
   "toc_section_display": true,
   "toc_window_display": true
  }
 },
 "nbformat": 4,
 "nbformat_minor": 2
}

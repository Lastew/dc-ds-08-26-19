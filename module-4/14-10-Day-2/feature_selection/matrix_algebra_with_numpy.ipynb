{
 "cells": [
  {
   "cell_type": "code",
   "execution_count": 2,
   "metadata": {},
   "outputs": [],
   "source": [
    "from numpy import *\n",
    "import math"
   ]
  },
  {
   "cell_type": "markdown",
   "metadata": {},
   "source": [
    "### Scalars, Vectors, Matrices and Tensors\n",
    "\n",
    "- __Scalars__ A scalar is just a single number. Ex: 1, $\\pi$, $\\frac{7}{22}$, $e$. In python integers and floats are scalars."
   ]
  },
  {
   "cell_type": "code",
   "execution_count": null,
   "metadata": {},
   "outputs": [],
   "source": [
    "a = 3\n",
    "\n",
    "b = math.pi\n",
    "\n",
    "print(a,b, type(a), type(b))"
   ]
  },
  {
   "cell_type": "markdown",
   "metadata": {},
   "source": [
    "- __Vectors__: A vector is an array of numbers. In python we can consider numpy ndarray's as the representatives of the vectors. Possible notations for the vectors: bold letters $\\textbf{X}, \\textbf{x}$, with an arrow $\\vec{X}, \\vec{x}$ or just $V, v$ when it is clear from the context that these are vectors."
   ]
  },
  {
   "cell_type": "code",
   "execution_count": null,
   "metadata": {},
   "outputs": [],
   "source": [
    "import numpy as np\n",
    "\n",
    "x = np.array([11, math.e, 5])\n",
    "\n",
    "\n",
    "## note the shape is just (3,)\n",
    "## we will see that this is different than (3,1)\n",
    "\n",
    "print(x, x.shape, type(x))"
   ]
  },
  {
   "cell_type": "code",
   "execution_count": null,
   "metadata": {},
   "outputs": [],
   "source": [
    "## note that vectors has indices or coefficients:\n",
    "\n",
    "x_1 = x[0]\n",
    "\n",
    "x_2 = x[1]\n",
    "\n",
    "x_3 = x[2]\n",
    "\n",
    "print(x_1,x_2,x_3)"
   ]
  },
  {
   "cell_type": "markdown",
   "metadata": {},
   "source": [
    "- __Matrices__ A matrix is a 2D array of numbers: Again we will use ndarrays for matrices.\n"
   ]
  },
  {
   "cell_type": "code",
   "execution_count": null,
   "metadata": {},
   "outputs": [],
   "source": [
    "A = np.array([[1,2,3], [11,5,7], [13,17,19], [1,0,2]])\n",
    "print(A, A.shape, type(A))"
   ]
  },
  {
   "cell_type": "code",
   "execution_count": null,
   "metadata": {},
   "outputs": [],
   "source": [
    "## note that we can access the entries within a matrix with the indices too.\n",
    "## Also note that python starts counting from 0\n",
    "print(A[0,1], A[0, 2], A[2, 2])"
   ]
  },
  {
   "cell_type": "code",
   "execution_count": null,
   "metadata": {},
   "outputs": [],
   "source": [
    "## We can also access a row in a matrix\n",
    "\n",
    "print('The second row of A: ', A[1,: ],'\\nThe third row of A: ', A[2, :])\n",
    "\n",
    "\n",
    "## We can also access the columns\n",
    "\n",
    "print('The second column of A: ', A[:,1],'\\nThe third column of A: ', A[:,2])\n"
   ]
  },
  {
   "cell_type": "code",
   "execution_count": null,
   "metadata": {},
   "outputs": [],
   "source": [
    "a = np.array([1,2,3])\n",
    "\n",
    "\n",
    "## From a (3,) dimensional array we can create\n",
    "## column and row vectors in different ways\n",
    "display(a[np.newaxis, :], a[:, np.newaxis])\n",
    "\n",
    "## or we can use reshape method\n",
    "display(a.reshape(3,1), a.reshape(1,3))\n",
    "\n",
    "## also there is a transpose method available\n",
    "\n",
    "display(a, a.reshape(1,3), a.reshape(1,3).transpose())\n",
    "\n",
    "## note that a and a.reshape(1,3) don't have the same structure\n",
    "\n",
    "display(a.shape, a.reshape(1,3).shape, a.reshape(1,3).transpose().shape)"
   ]
  },
  {
   "cell_type": "markdown",
   "metadata": {},
   "source": [
    "- __Tensors__ An array of numbers arranged on a regular grid with a variable number of axis is known as a tensor. We can create tensors with numpy but there will be other libraries also that is using tensors. "
   ]
  },
  {
   "cell_type": "code",
   "execution_count": null,
   "metadata": {},
   "outputs": [],
   "source": [
    "## Properties of the tensors will not be discussed in this notebook\n",
    "\n",
    "T = np.array([[[1,2,3],    [4,5,6],    [7,8,9]],\n",
    "              [[11,12,13], [14,15,16], [17,18,19]],\n",
    "              [[21,22,23], [24,25,26], [27,28,29]]\n",
    "             ])\n",
    "T.shape"
   ]
  },
  {
   "cell_type": "markdown",
   "metadata": {},
   "source": [
    "## Multiplying Vectors and Matrices"
   ]
  },
  {
   "cell_type": "code",
   "execution_count": null,
   "metadata": {},
   "outputs": [],
   "source": [
    "B = np.array([[1,0], \n",
    "              [1,2], \n",
    "              [0,2]\n",
    "             ])\n",
    "display(A, B, A.dot(B))\n",
    "\n",
    "display(A.shape, B.shape, A.dot(B).shape)"
   ]
  },
  {
   "cell_type": "code",
   "execution_count": null,
   "metadata": {},
   "outputs": [],
   "source": [
    "## we can use 'dot' product to multiply two vectors.\n",
    "## here a, b are of shape (3,)\n",
    "## Note that the result will be a scalar\n",
    "\n",
    "a = np.array([1,2,3])\n",
    "b = np.array([1,0,1])\n",
    "\n",
    "a.dot(b)"
   ]
  },
  {
   "cell_type": "code",
   "execution_count": null,
   "metadata": {},
   "outputs": [],
   "source": [
    "## If the vectors have shape (1,3) then this method would not work\n",
    "\n",
    "a = np.array([[1,2,3]])\n",
    "\n",
    "b = np.array([[1,0,1]])\n",
    "\n",
    "a.dot(b)"
   ]
  },
  {
   "cell_type": "code",
   "execution_count": null,
   "metadata": {},
   "outputs": [],
   "source": [
    "## instead we can use transpose first and then dot\n",
    "\n",
    "## here a is of shape (1,3) and b.transpose is of shape (3,1)\n",
    "## so the result will be of shape (1,1)\n",
    "\n",
    "print(a.dot(b.transpose()),a.dot(b.transpose()).shape )"
   ]
  },
  {
   "cell_type": "code",
   "execution_count": null,
   "metadata": {},
   "outputs": [],
   "source": [
    "## If we take first a.transpose what do we get?\n",
    "\n",
    "print(a.transpose().dot(b),a.transpose().dot(b).shape )"
   ]
  },
  {
   "cell_type": "code",
   "execution_count": null,
   "metadata": {},
   "outputs": [],
   "source": [
    "## we can use np.linalg module to do some linear algebra\n",
    "## for example let's use np.linalg.inv for taking inverse of a matrix\n",
    "\n",
    "A = np.array([[1,2,3], [1,0,13], [0,2,1]])\n",
    "\n",
    "np.linalg.inv(A)"
   ]
  },
  {
   "cell_type": "code",
   "execution_count": null,
   "metadata": {},
   "outputs": [],
   "source": [
    "## note that not all matrices are invertible\n",
    "## np.linalg.inv gives an error when we try to \n",
    "## invert a non-invertible matrix\n",
    "A = np.array([[1,2,3], [1,0,2], [0,2,1]])\n",
    "\n",
    "np.linalg.inv(A)"
   ]
  },
  {
   "cell_type": "code",
   "execution_count": null,
   "metadata": {
    "scrolled": true
   },
   "outputs": [],
   "source": [
    "## There is also .eig method that allow\n",
    "## allow us to find eigenvalues and eigenvectors\n",
    "## note that the matrix should be a square matrix\n",
    "\n",
    "eig_val, eig_vec = np.linalg.eig(A)\n",
    "\n",
    "display(eig_val, eig_vec)"
   ]
  },
  {
   "cell_type": "code",
   "execution_count": null,
   "metadata": {},
   "outputs": [],
   "source": [
    "## Two things returned from np.linalg.eig \n",
    "## 1: an array of shape (n, ) for the eigenvalues\n",
    "## 2: an array of shape (n,n) for eigenvectors as columns\n",
    "\n",
    "c = eig_val[0]*eig_vec[:,0]\n",
    "\n",
    "d = A.dot(eig_vec[:,0])\n",
    "\n",
    "display(c,d)"
   ]
  },
  {
   "cell_type": "markdown",
   "metadata": {},
   "source": [
    "## Extra Sources\n",
    "\n",
    "[Penn State Matrix Algebra Review](https://newonlinecourses.science.psu.edu/statprogram/reviews/matrix-algebra)\n",
    "\n",
    "[IBM's matrix algrabe class](https://cognitiveclass.ai/blog/nested-lists-multidimensional-numpy-arrays)"
   ]
  }
 ],
 "metadata": {
  "kernelspec": {
   "display_name": "learn-env",
   "language": "python",
   "name": "learn-env"
  },
  "language_info": {
   "codemirror_mode": {
    "name": "ipython",
    "version": 3
   },
   "file_extension": ".py",
   "mimetype": "text/x-python",
   "name": "python",
   "nbconvert_exporter": "python",
   "pygments_lexer": "ipython3",
   "version": "3.6.6"
  },
  "toc": {
   "base_numbering": 1,
   "nav_menu": {},
   "number_sections": true,
   "sideBar": true,
   "skip_h1_title": false,
   "title_cell": "Table of Contents",
   "title_sidebar": "Contents",
   "toc_cell": false,
   "toc_position": {},
   "toc_section_display": true,
   "toc_window_display": false
  }
 },
 "nbformat": 4,
 "nbformat_minor": 2
}
